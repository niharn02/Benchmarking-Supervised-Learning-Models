{
 "cells": [
  {
   "cell_type": "code",
   "execution_count": 1,
   "id": "8ee0cb2c",
   "metadata": {},
   "outputs": [],
   "source": [
    "# Evaluation of Supervised Learning Algorithms (Heart Disease Dataset)\n",
    "# This notebook aims to provide a comparative analysis of different Supervised Learning Algorithms on Loan dataset.\n",
    "# The aim is to evaluate and compare the performance of these algorithms by means of performance metrics.\n",
    "# The dataset used in this notebook is the Loan Approval dataset taken from Kaggle.\n",
    "# Link of the dataset: \"https://www.kaggle.com/datasets/bhavikjikadara/loan-status-prediction\"."
   ]
  },
  {
   "cell_type": "code",
   "execution_count": 2,
   "id": "782f8621",
   "metadata": {},
   "outputs": [],
   "source": [
    "# First, Importing the necessary libraries\n",
    "from sklearn.linear_model import LogisticRegression\n",
    "from sklearn.tree import DecisionTreeClassifier\n",
    "from sklearn.ensemble import RandomForestClassifier\n",
    "from sklearn.svm import SVC\n",
    "from sklearn.neighbors import KNeighborsClassifier\n",
    "from sklearn.ensemble import AdaBoostClassifier\n",
    "from sklearn.model_selection import GridSearchCV, train_test_split\n",
    "from sklearn.preprocessing import LabelEncoder, StandardScaler\n",
    "from sklearn.metrics import accuracy_score, precision_score, recall_score, f1_score, confusion_matrix, plot_confusion_matrix\n",
    "import matplotlib.pyplot as plt\n",
    "import seaborn as sns\n",
    "import pandas as pd\n",
    "from collections import Counter\n",
    "from imblearn.over_sampling import SMOTE\n",
    "import warnings\n",
    "warnings.simplefilter(action='ignore', category=FutureWarning)"
   ]
  },
  {
   "cell_type": "code",
   "execution_count": 3,
   "id": "d5c97fca",
   "metadata": {},
   "outputs": [],
   "source": [
    "# Loading and Preprocessing the dataset\n",
    "# Preprocessing involves steps such as handling missing values, encoding the categorical values using Label Encode, and \n",
    "# splitting the dataset into train and test data."
   ]
  },
  {
   "cell_type": "code",
   "execution_count": 4,
   "id": "34697743",
   "metadata": {},
   "outputs": [],
   "source": [
    "# Load the dataset\n",
    "data = pd.read_csv(\"loan_data.csv\")"
   ]
  },
  {
   "cell_type": "code",
   "execution_count": 5,
   "id": "10a79ab9",
   "metadata": {},
   "outputs": [
    {
     "data": {
      "text/html": [
       "<div>\n",
       "<style scoped>\n",
       "    .dataframe tbody tr th:only-of-type {\n",
       "        vertical-align: middle;\n",
       "    }\n",
       "\n",
       "    .dataframe tbody tr th {\n",
       "        vertical-align: top;\n",
       "    }\n",
       "\n",
       "    .dataframe thead th {\n",
       "        text-align: right;\n",
       "    }\n",
       "</style>\n",
       "<table border=\"1\" class=\"dataframe\">\n",
       "  <thead>\n",
       "    <tr style=\"text-align: right;\">\n",
       "      <th></th>\n",
       "      <th>Loan_ID</th>\n",
       "      <th>Gender</th>\n",
       "      <th>Married</th>\n",
       "      <th>Dependents</th>\n",
       "      <th>Education</th>\n",
       "      <th>Self_Employed</th>\n",
       "      <th>ApplicantIncome</th>\n",
       "      <th>CoapplicantIncome</th>\n",
       "      <th>LoanAmount</th>\n",
       "      <th>Loan_Amount_Term</th>\n",
       "      <th>Credit_History</th>\n",
       "      <th>Property_Area</th>\n",
       "      <th>Loan_Status</th>\n",
       "    </tr>\n",
       "  </thead>\n",
       "  <tbody>\n",
       "    <tr>\n",
       "      <th>0</th>\n",
       "      <td>LP001003</td>\n",
       "      <td>Male</td>\n",
       "      <td>Yes</td>\n",
       "      <td>1</td>\n",
       "      <td>Graduate</td>\n",
       "      <td>No</td>\n",
       "      <td>4583</td>\n",
       "      <td>1508.0</td>\n",
       "      <td>128.0</td>\n",
       "      <td>360.0</td>\n",
       "      <td>1.0</td>\n",
       "      <td>Rural</td>\n",
       "      <td>N</td>\n",
       "    </tr>\n",
       "    <tr>\n",
       "      <th>1</th>\n",
       "      <td>LP001005</td>\n",
       "      <td>Male</td>\n",
       "      <td>Yes</td>\n",
       "      <td>0</td>\n",
       "      <td>Graduate</td>\n",
       "      <td>Yes</td>\n",
       "      <td>3000</td>\n",
       "      <td>0.0</td>\n",
       "      <td>66.0</td>\n",
       "      <td>360.0</td>\n",
       "      <td>1.0</td>\n",
       "      <td>Urban</td>\n",
       "      <td>Y</td>\n",
       "    </tr>\n",
       "    <tr>\n",
       "      <th>2</th>\n",
       "      <td>LP001006</td>\n",
       "      <td>Male</td>\n",
       "      <td>Yes</td>\n",
       "      <td>0</td>\n",
       "      <td>Not Graduate</td>\n",
       "      <td>No</td>\n",
       "      <td>2583</td>\n",
       "      <td>2358.0</td>\n",
       "      <td>120.0</td>\n",
       "      <td>360.0</td>\n",
       "      <td>1.0</td>\n",
       "      <td>Urban</td>\n",
       "      <td>Y</td>\n",
       "    </tr>\n",
       "    <tr>\n",
       "      <th>3</th>\n",
       "      <td>LP001008</td>\n",
       "      <td>Male</td>\n",
       "      <td>No</td>\n",
       "      <td>0</td>\n",
       "      <td>Graduate</td>\n",
       "      <td>No</td>\n",
       "      <td>6000</td>\n",
       "      <td>0.0</td>\n",
       "      <td>141.0</td>\n",
       "      <td>360.0</td>\n",
       "      <td>1.0</td>\n",
       "      <td>Urban</td>\n",
       "      <td>Y</td>\n",
       "    </tr>\n",
       "    <tr>\n",
       "      <th>4</th>\n",
       "      <td>LP001013</td>\n",
       "      <td>Male</td>\n",
       "      <td>Yes</td>\n",
       "      <td>0</td>\n",
       "      <td>Not Graduate</td>\n",
       "      <td>No</td>\n",
       "      <td>2333</td>\n",
       "      <td>1516.0</td>\n",
       "      <td>95.0</td>\n",
       "      <td>360.0</td>\n",
       "      <td>1.0</td>\n",
       "      <td>Urban</td>\n",
       "      <td>Y</td>\n",
       "    </tr>\n",
       "  </tbody>\n",
       "</table>\n",
       "</div>"
      ],
      "text/plain": [
       "    Loan_ID Gender Married Dependents     Education Self_Employed  \\\n",
       "0  LP001003   Male     Yes          1      Graduate            No   \n",
       "1  LP001005   Male     Yes          0      Graduate           Yes   \n",
       "2  LP001006   Male     Yes          0  Not Graduate            No   \n",
       "3  LP001008   Male      No          0      Graduate            No   \n",
       "4  LP001013   Male     Yes          0  Not Graduate            No   \n",
       "\n",
       "   ApplicantIncome  CoapplicantIncome  LoanAmount  Loan_Amount_Term  \\\n",
       "0             4583             1508.0       128.0             360.0   \n",
       "1             3000                0.0        66.0             360.0   \n",
       "2             2583             2358.0       120.0             360.0   \n",
       "3             6000                0.0       141.0             360.0   \n",
       "4             2333             1516.0        95.0             360.0   \n",
       "\n",
       "   Credit_History Property_Area Loan_Status  \n",
       "0             1.0         Rural           N  \n",
       "1             1.0         Urban           Y  \n",
       "2             1.0         Urban           Y  \n",
       "3             1.0         Urban           Y  \n",
       "4             1.0         Urban           Y  "
      ]
     },
     "execution_count": 5,
     "metadata": {},
     "output_type": "execute_result"
    }
   ],
   "source": [
    "# Display the first 5 rows of the dataset\n",
    "data.head()"
   ]
  },
  {
   "cell_type": "code",
   "execution_count": 6,
   "id": "913f9e67",
   "metadata": {},
   "outputs": [
    {
     "name": "stdout",
     "output_type": "stream",
     "text": [
      "<class 'pandas.core.frame.DataFrame'>\n",
      "RangeIndex: 381 entries, 0 to 380\n",
      "Data columns (total 13 columns):\n",
      " #   Column             Non-Null Count  Dtype  \n",
      "---  ------             --------------  -----  \n",
      " 0   Loan_ID            381 non-null    object \n",
      " 1   Gender             376 non-null    object \n",
      " 2   Married            381 non-null    object \n",
      " 3   Dependents         373 non-null    object \n",
      " 4   Education          381 non-null    object \n",
      " 5   Self_Employed      360 non-null    object \n",
      " 6   ApplicantIncome    381 non-null    int64  \n",
      " 7   CoapplicantIncome  381 non-null    float64\n",
      " 8   LoanAmount         381 non-null    float64\n",
      " 9   Loan_Amount_Term   370 non-null    float64\n",
      " 10  Credit_History     351 non-null    float64\n",
      " 11  Property_Area      381 non-null    object \n",
      " 12  Loan_Status        381 non-null    object \n",
      "dtypes: float64(4), int64(1), object(8)\n",
      "memory usage: 38.8+ KB\n"
     ]
    }
   ],
   "source": [
    "# Summarise the dataframe structure to see if there are any missing values and the data type.\n",
    "data.info()"
   ]
  },
  {
   "cell_type": "code",
   "execution_count": 7,
   "id": "7e7e6973",
   "metadata": {},
   "outputs": [
    {
     "data": {
      "text/html": [
       "<div>\n",
       "<style scoped>\n",
       "    .dataframe tbody tr th:only-of-type {\n",
       "        vertical-align: middle;\n",
       "    }\n",
       "\n",
       "    .dataframe tbody tr th {\n",
       "        vertical-align: top;\n",
       "    }\n",
       "\n",
       "    .dataframe thead th {\n",
       "        text-align: right;\n",
       "    }\n",
       "</style>\n",
       "<table border=\"1\" class=\"dataframe\">\n",
       "  <thead>\n",
       "    <tr style=\"text-align: right;\">\n",
       "      <th></th>\n",
       "      <th>Loan_ID</th>\n",
       "      <th>Gender</th>\n",
       "      <th>Married</th>\n",
       "      <th>Dependents</th>\n",
       "      <th>Education</th>\n",
       "      <th>Self_Employed</th>\n",
       "      <th>ApplicantIncome</th>\n",
       "      <th>CoapplicantIncome</th>\n",
       "      <th>LoanAmount</th>\n",
       "      <th>Loan_Amount_Term</th>\n",
       "      <th>Credit_History</th>\n",
       "      <th>Property_Area</th>\n",
       "      <th>Loan_Status</th>\n",
       "    </tr>\n",
       "  </thead>\n",
       "  <tbody>\n",
       "    <tr>\n",
       "      <th>0</th>\n",
       "      <td>False</td>\n",
       "      <td>False</td>\n",
       "      <td>False</td>\n",
       "      <td>False</td>\n",
       "      <td>False</td>\n",
       "      <td>False</td>\n",
       "      <td>False</td>\n",
       "      <td>False</td>\n",
       "      <td>False</td>\n",
       "      <td>False</td>\n",
       "      <td>False</td>\n",
       "      <td>False</td>\n",
       "      <td>False</td>\n",
       "    </tr>\n",
       "    <tr>\n",
       "      <th>1</th>\n",
       "      <td>False</td>\n",
       "      <td>False</td>\n",
       "      <td>False</td>\n",
       "      <td>False</td>\n",
       "      <td>False</td>\n",
       "      <td>False</td>\n",
       "      <td>False</td>\n",
       "      <td>False</td>\n",
       "      <td>False</td>\n",
       "      <td>False</td>\n",
       "      <td>False</td>\n",
       "      <td>False</td>\n",
       "      <td>False</td>\n",
       "    </tr>\n",
       "    <tr>\n",
       "      <th>2</th>\n",
       "      <td>False</td>\n",
       "      <td>False</td>\n",
       "      <td>False</td>\n",
       "      <td>False</td>\n",
       "      <td>False</td>\n",
       "      <td>False</td>\n",
       "      <td>False</td>\n",
       "      <td>False</td>\n",
       "      <td>False</td>\n",
       "      <td>False</td>\n",
       "      <td>False</td>\n",
       "      <td>False</td>\n",
       "      <td>False</td>\n",
       "    </tr>\n",
       "    <tr>\n",
       "      <th>3</th>\n",
       "      <td>False</td>\n",
       "      <td>False</td>\n",
       "      <td>False</td>\n",
       "      <td>False</td>\n",
       "      <td>False</td>\n",
       "      <td>False</td>\n",
       "      <td>False</td>\n",
       "      <td>False</td>\n",
       "      <td>False</td>\n",
       "      <td>False</td>\n",
       "      <td>False</td>\n",
       "      <td>False</td>\n",
       "      <td>False</td>\n",
       "    </tr>\n",
       "    <tr>\n",
       "      <th>4</th>\n",
       "      <td>False</td>\n",
       "      <td>False</td>\n",
       "      <td>False</td>\n",
       "      <td>False</td>\n",
       "      <td>False</td>\n",
       "      <td>False</td>\n",
       "      <td>False</td>\n",
       "      <td>False</td>\n",
       "      <td>False</td>\n",
       "      <td>False</td>\n",
       "      <td>False</td>\n",
       "      <td>False</td>\n",
       "      <td>False</td>\n",
       "    </tr>\n",
       "    <tr>\n",
       "      <th>...</th>\n",
       "      <td>...</td>\n",
       "      <td>...</td>\n",
       "      <td>...</td>\n",
       "      <td>...</td>\n",
       "      <td>...</td>\n",
       "      <td>...</td>\n",
       "      <td>...</td>\n",
       "      <td>...</td>\n",
       "      <td>...</td>\n",
       "      <td>...</td>\n",
       "      <td>...</td>\n",
       "      <td>...</td>\n",
       "      <td>...</td>\n",
       "    </tr>\n",
       "    <tr>\n",
       "      <th>376</th>\n",
       "      <td>False</td>\n",
       "      <td>False</td>\n",
       "      <td>False</td>\n",
       "      <td>False</td>\n",
       "      <td>False</td>\n",
       "      <td>False</td>\n",
       "      <td>False</td>\n",
       "      <td>False</td>\n",
       "      <td>False</td>\n",
       "      <td>False</td>\n",
       "      <td>False</td>\n",
       "      <td>False</td>\n",
       "      <td>False</td>\n",
       "    </tr>\n",
       "    <tr>\n",
       "      <th>377</th>\n",
       "      <td>False</td>\n",
       "      <td>False</td>\n",
       "      <td>False</td>\n",
       "      <td>False</td>\n",
       "      <td>False</td>\n",
       "      <td>False</td>\n",
       "      <td>False</td>\n",
       "      <td>False</td>\n",
       "      <td>False</td>\n",
       "      <td>False</td>\n",
       "      <td>False</td>\n",
       "      <td>False</td>\n",
       "      <td>False</td>\n",
       "    </tr>\n",
       "    <tr>\n",
       "      <th>378</th>\n",
       "      <td>False</td>\n",
       "      <td>False</td>\n",
       "      <td>False</td>\n",
       "      <td>False</td>\n",
       "      <td>False</td>\n",
       "      <td>False</td>\n",
       "      <td>False</td>\n",
       "      <td>False</td>\n",
       "      <td>False</td>\n",
       "      <td>False</td>\n",
       "      <td>False</td>\n",
       "      <td>False</td>\n",
       "      <td>False</td>\n",
       "    </tr>\n",
       "    <tr>\n",
       "      <th>379</th>\n",
       "      <td>False</td>\n",
       "      <td>False</td>\n",
       "      <td>False</td>\n",
       "      <td>False</td>\n",
       "      <td>False</td>\n",
       "      <td>False</td>\n",
       "      <td>False</td>\n",
       "      <td>False</td>\n",
       "      <td>False</td>\n",
       "      <td>False</td>\n",
       "      <td>False</td>\n",
       "      <td>False</td>\n",
       "      <td>False</td>\n",
       "    </tr>\n",
       "    <tr>\n",
       "      <th>380</th>\n",
       "      <td>False</td>\n",
       "      <td>False</td>\n",
       "      <td>False</td>\n",
       "      <td>False</td>\n",
       "      <td>False</td>\n",
       "      <td>False</td>\n",
       "      <td>False</td>\n",
       "      <td>False</td>\n",
       "      <td>False</td>\n",
       "      <td>False</td>\n",
       "      <td>False</td>\n",
       "      <td>False</td>\n",
       "      <td>False</td>\n",
       "    </tr>\n",
       "  </tbody>\n",
       "</table>\n",
       "<p>381 rows × 13 columns</p>\n",
       "</div>"
      ],
      "text/plain": [
       "     Loan_ID  Gender  Married  Dependents  Education  Self_Employed  \\\n",
       "0      False   False    False       False      False          False   \n",
       "1      False   False    False       False      False          False   \n",
       "2      False   False    False       False      False          False   \n",
       "3      False   False    False       False      False          False   \n",
       "4      False   False    False       False      False          False   \n",
       "..       ...     ...      ...         ...        ...            ...   \n",
       "376    False   False    False       False      False          False   \n",
       "377    False   False    False       False      False          False   \n",
       "378    False   False    False       False      False          False   \n",
       "379    False   False    False       False      False          False   \n",
       "380    False   False    False       False      False          False   \n",
       "\n",
       "     ApplicantIncome  CoapplicantIncome  LoanAmount  Loan_Amount_Term  \\\n",
       "0              False              False       False             False   \n",
       "1              False              False       False             False   \n",
       "2              False              False       False             False   \n",
       "3              False              False       False             False   \n",
       "4              False              False       False             False   \n",
       "..               ...                ...         ...               ...   \n",
       "376            False              False       False             False   \n",
       "377            False              False       False             False   \n",
       "378            False              False       False             False   \n",
       "379            False              False       False             False   \n",
       "380            False              False       False             False   \n",
       "\n",
       "     Credit_History  Property_Area  Loan_Status  \n",
       "0             False          False        False  \n",
       "1             False          False        False  \n",
       "2             False          False        False  \n",
       "3             False          False        False  \n",
       "4             False          False        False  \n",
       "..              ...            ...          ...  \n",
       "376           False          False        False  \n",
       "377           False          False        False  \n",
       "378           False          False        False  \n",
       "379           False          False        False  \n",
       "380           False          False        False  \n",
       "\n",
       "[381 rows x 13 columns]"
      ]
     },
     "execution_count": 7,
     "metadata": {},
     "output_type": "execute_result"
    }
   ],
   "source": [
    "# Check null values in the dataset\n",
    "data.isnull()"
   ]
  },
  {
   "cell_type": "code",
   "execution_count": 8,
   "id": "95056705",
   "metadata": {},
   "outputs": [
    {
     "data": {
      "text/plain": [
       "Loan_ID               0\n",
       "Gender                5\n",
       "Married               0\n",
       "Dependents            8\n",
       "Education             0\n",
       "Self_Employed        21\n",
       "ApplicantIncome       0\n",
       "CoapplicantIncome     0\n",
       "LoanAmount            0\n",
       "Loan_Amount_Term     11\n",
       "Credit_History       30\n",
       "Property_Area         0\n",
       "Loan_Status           0\n",
       "dtype: int64"
      ]
     },
     "execution_count": 8,
     "metadata": {},
     "output_type": "execute_result"
    }
   ],
   "source": [
    "# Sum up the null values in the dataset\n",
    "data.isnull().sum()"
   ]
  },
  {
   "cell_type": "code",
   "execution_count": 9,
   "id": "5588c86e",
   "metadata": {},
   "outputs": [],
   "source": [
    "# Separate the columns with categorical and numerical values\n",
    "cat = ['Gender', 'Married', 'Dependents', 'Education', 'Self_Employed', 'Property_Area', 'Loan_Status']\n",
    "num = ['ApplicantIncome', 'CoapplicantIncome', 'LoanAmount', 'Loan_Amount_Term', 'Credit_History']\n",
    "# Use mode to fill the missing values in categorical columns\n",
    "for col in cat:\n",
    "    data[col].fillna(data[col].mode()[0], inplace=True)\n",
    "# Use median to fill the missing values in numerical columns\n",
    "for col in num:\n",
    "    data[col].fillna(data[col].median(), inplace=True)"
   ]
  },
  {
   "cell_type": "code",
   "execution_count": 10,
   "id": "69204e74",
   "metadata": {},
   "outputs": [],
   "source": [
    "# Using the Label Encoder to convert the categroical values into numeric values.\n",
    "label_encoder = LabelEncoder()\n",
    "for col in cat:\n",
    "    data[col] = label_encoder.fit_transform(data[col])"
   ]
  },
  {
   "cell_type": "code",
   "execution_count": 11,
   "id": "3b9d45c2",
   "metadata": {},
   "outputs": [],
   "source": [
    "# Drop the 'Loan_ID' column\n",
    "if 'Loan_ID' in data.columns:\n",
    "    data.drop('Loan_ID', axis=1, inplace=True)"
   ]
  },
  {
   "cell_type": "code",
   "execution_count": 12,
   "id": "b5c8243a",
   "metadata": {},
   "outputs": [
    {
     "name": "stdout",
     "output_type": "stream",
     "text": [
      "<class 'pandas.core.frame.DataFrame'>\n",
      "RangeIndex: 381 entries, 0 to 380\n",
      "Data columns (total 12 columns):\n",
      " #   Column             Non-Null Count  Dtype  \n",
      "---  ------             --------------  -----  \n",
      " 0   Gender             381 non-null    int32  \n",
      " 1   Married            381 non-null    int32  \n",
      " 2   Dependents         381 non-null    int32  \n",
      " 3   Education          381 non-null    int32  \n",
      " 4   Self_Employed      381 non-null    int32  \n",
      " 5   ApplicantIncome    381 non-null    int64  \n",
      " 6   CoapplicantIncome  381 non-null    float64\n",
      " 7   LoanAmount         381 non-null    float64\n",
      " 8   Loan_Amount_Term   381 non-null    float64\n",
      " 9   Credit_History     381 non-null    float64\n",
      " 10  Property_Area      381 non-null    int32  \n",
      " 11  Loan_Status        381 non-null    int32  \n",
      "dtypes: float64(4), int32(7), int64(1)\n",
      "memory usage: 25.4 KB\n"
     ]
    }
   ],
   "source": [
    "# Summarise the dataframe structure to see if there are any missing values and the data type.\n",
    "data.info()"
   ]
  },
  {
   "cell_type": "code",
   "execution_count": 13,
   "id": "97f58293",
   "metadata": {},
   "outputs": [
    {
     "data": {
      "text/html": [
       "<div>\n",
       "<style scoped>\n",
       "    .dataframe tbody tr th:only-of-type {\n",
       "        vertical-align: middle;\n",
       "    }\n",
       "\n",
       "    .dataframe tbody tr th {\n",
       "        vertical-align: top;\n",
       "    }\n",
       "\n",
       "    .dataframe thead th {\n",
       "        text-align: right;\n",
       "    }\n",
       "</style>\n",
       "<table border=\"1\" class=\"dataframe\">\n",
       "  <thead>\n",
       "    <tr style=\"text-align: right;\">\n",
       "      <th></th>\n",
       "      <th>Gender</th>\n",
       "      <th>Married</th>\n",
       "      <th>Dependents</th>\n",
       "      <th>Education</th>\n",
       "      <th>Self_Employed</th>\n",
       "      <th>ApplicantIncome</th>\n",
       "      <th>CoapplicantIncome</th>\n",
       "      <th>LoanAmount</th>\n",
       "      <th>Loan_Amount_Term</th>\n",
       "      <th>Credit_History</th>\n",
       "      <th>Property_Area</th>\n",
       "      <th>Loan_Status</th>\n",
       "    </tr>\n",
       "  </thead>\n",
       "  <tbody>\n",
       "    <tr>\n",
       "      <th>0</th>\n",
       "      <td>1</td>\n",
       "      <td>1</td>\n",
       "      <td>1</td>\n",
       "      <td>0</td>\n",
       "      <td>0</td>\n",
       "      <td>4583</td>\n",
       "      <td>1508.0</td>\n",
       "      <td>128.0</td>\n",
       "      <td>360.0</td>\n",
       "      <td>1.0</td>\n",
       "      <td>0</td>\n",
       "      <td>0</td>\n",
       "    </tr>\n",
       "    <tr>\n",
       "      <th>1</th>\n",
       "      <td>1</td>\n",
       "      <td>1</td>\n",
       "      <td>0</td>\n",
       "      <td>0</td>\n",
       "      <td>1</td>\n",
       "      <td>3000</td>\n",
       "      <td>0.0</td>\n",
       "      <td>66.0</td>\n",
       "      <td>360.0</td>\n",
       "      <td>1.0</td>\n",
       "      <td>2</td>\n",
       "      <td>1</td>\n",
       "    </tr>\n",
       "    <tr>\n",
       "      <th>2</th>\n",
       "      <td>1</td>\n",
       "      <td>1</td>\n",
       "      <td>0</td>\n",
       "      <td>1</td>\n",
       "      <td>0</td>\n",
       "      <td>2583</td>\n",
       "      <td>2358.0</td>\n",
       "      <td>120.0</td>\n",
       "      <td>360.0</td>\n",
       "      <td>1.0</td>\n",
       "      <td>2</td>\n",
       "      <td>1</td>\n",
       "    </tr>\n",
       "    <tr>\n",
       "      <th>3</th>\n",
       "      <td>1</td>\n",
       "      <td>0</td>\n",
       "      <td>0</td>\n",
       "      <td>0</td>\n",
       "      <td>0</td>\n",
       "      <td>6000</td>\n",
       "      <td>0.0</td>\n",
       "      <td>141.0</td>\n",
       "      <td>360.0</td>\n",
       "      <td>1.0</td>\n",
       "      <td>2</td>\n",
       "      <td>1</td>\n",
       "    </tr>\n",
       "    <tr>\n",
       "      <th>4</th>\n",
       "      <td>1</td>\n",
       "      <td>1</td>\n",
       "      <td>0</td>\n",
       "      <td>1</td>\n",
       "      <td>0</td>\n",
       "      <td>2333</td>\n",
       "      <td>1516.0</td>\n",
       "      <td>95.0</td>\n",
       "      <td>360.0</td>\n",
       "      <td>1.0</td>\n",
       "      <td>2</td>\n",
       "      <td>1</td>\n",
       "    </tr>\n",
       "  </tbody>\n",
       "</table>\n",
       "</div>"
      ],
      "text/plain": [
       "   Gender  Married  Dependents  Education  Self_Employed  ApplicantIncome  \\\n",
       "0       1        1           1          0              0             4583   \n",
       "1       1        1           0          0              1             3000   \n",
       "2       1        1           0          1              0             2583   \n",
       "3       1        0           0          0              0             6000   \n",
       "4       1        1           0          1              0             2333   \n",
       "\n",
       "   CoapplicantIncome  LoanAmount  Loan_Amount_Term  Credit_History  \\\n",
       "0             1508.0       128.0             360.0             1.0   \n",
       "1                0.0        66.0             360.0             1.0   \n",
       "2             2358.0       120.0             360.0             1.0   \n",
       "3                0.0       141.0             360.0             1.0   \n",
       "4             1516.0        95.0             360.0             1.0   \n",
       "\n",
       "   Property_Area  Loan_Status  \n",
       "0              0            0  \n",
       "1              2            1  \n",
       "2              2            1  \n",
       "3              2            1  \n",
       "4              2            1  "
      ]
     },
     "execution_count": 13,
     "metadata": {},
     "output_type": "execute_result"
    }
   ],
   "source": [
    "# Display the first 5 rows of the dataset\n",
    "data.head()"
   ]
  },
  {
   "cell_type": "code",
   "execution_count": 14,
   "id": "82e1029b",
   "metadata": {},
   "outputs": [
    {
     "data": {
      "text/html": [
       "<div>\n",
       "<style scoped>\n",
       "    .dataframe tbody tr th:only-of-type {\n",
       "        vertical-align: middle;\n",
       "    }\n",
       "\n",
       "    .dataframe tbody tr th {\n",
       "        vertical-align: top;\n",
       "    }\n",
       "\n",
       "    .dataframe thead th {\n",
       "        text-align: right;\n",
       "    }\n",
       "</style>\n",
       "<table border=\"1\" class=\"dataframe\">\n",
       "  <thead>\n",
       "    <tr style=\"text-align: right;\">\n",
       "      <th></th>\n",
       "      <th>Gender</th>\n",
       "      <th>Married</th>\n",
       "      <th>Dependents</th>\n",
       "      <th>Education</th>\n",
       "      <th>Self_Employed</th>\n",
       "      <th>ApplicantIncome</th>\n",
       "      <th>CoapplicantIncome</th>\n",
       "      <th>LoanAmount</th>\n",
       "      <th>Loan_Amount_Term</th>\n",
       "      <th>Credit_History</th>\n",
       "      <th>Property_Area</th>\n",
       "      <th>Loan_Status</th>\n",
       "    </tr>\n",
       "  </thead>\n",
       "  <tbody>\n",
       "    <tr>\n",
       "      <th>count</th>\n",
       "      <td>381.000000</td>\n",
       "      <td>381.000000</td>\n",
       "      <td>381.000000</td>\n",
       "      <td>381.000000</td>\n",
       "      <td>381.000000</td>\n",
       "      <td>381.000000</td>\n",
       "      <td>381.000000</td>\n",
       "      <td>381.000000</td>\n",
       "      <td>381.000000</td>\n",
       "      <td>381.000000</td>\n",
       "      <td>381.000000</td>\n",
       "      <td>381.000000</td>\n",
       "    </tr>\n",
       "    <tr>\n",
       "      <th>mean</th>\n",
       "      <td>0.776903</td>\n",
       "      <td>0.598425</td>\n",
       "      <td>0.666667</td>\n",
       "      <td>0.270341</td>\n",
       "      <td>0.091864</td>\n",
       "      <td>3579.845144</td>\n",
       "      <td>1277.275381</td>\n",
       "      <td>104.986877</td>\n",
       "      <td>341.417323</td>\n",
       "      <td>0.850394</td>\n",
       "      <td>1.052493</td>\n",
       "      <td>0.711286</td>\n",
       "    </tr>\n",
       "    <tr>\n",
       "      <th>std</th>\n",
       "      <td>0.416870</td>\n",
       "      <td>0.490861</td>\n",
       "      <td>0.987643</td>\n",
       "      <td>0.444720</td>\n",
       "      <td>0.289213</td>\n",
       "      <td>1419.813818</td>\n",
       "      <td>2340.818114</td>\n",
       "      <td>28.358464</td>\n",
       "      <td>67.625957</td>\n",
       "      <td>0.357154</td>\n",
       "      <td>0.779592</td>\n",
       "      <td>0.453761</td>\n",
       "    </tr>\n",
       "    <tr>\n",
       "      <th>min</th>\n",
       "      <td>0.000000</td>\n",
       "      <td>0.000000</td>\n",
       "      <td>0.000000</td>\n",
       "      <td>0.000000</td>\n",
       "      <td>0.000000</td>\n",
       "      <td>150.000000</td>\n",
       "      <td>0.000000</td>\n",
       "      <td>9.000000</td>\n",
       "      <td>12.000000</td>\n",
       "      <td>0.000000</td>\n",
       "      <td>0.000000</td>\n",
       "      <td>0.000000</td>\n",
       "    </tr>\n",
       "    <tr>\n",
       "      <th>25%</th>\n",
       "      <td>1.000000</td>\n",
       "      <td>0.000000</td>\n",
       "      <td>0.000000</td>\n",
       "      <td>0.000000</td>\n",
       "      <td>0.000000</td>\n",
       "      <td>2600.000000</td>\n",
       "      <td>0.000000</td>\n",
       "      <td>90.000000</td>\n",
       "      <td>360.000000</td>\n",
       "      <td>1.000000</td>\n",
       "      <td>0.000000</td>\n",
       "      <td>0.000000</td>\n",
       "    </tr>\n",
       "    <tr>\n",
       "      <th>50%</th>\n",
       "      <td>1.000000</td>\n",
       "      <td>1.000000</td>\n",
       "      <td>0.000000</td>\n",
       "      <td>0.000000</td>\n",
       "      <td>0.000000</td>\n",
       "      <td>3333.000000</td>\n",
       "      <td>983.000000</td>\n",
       "      <td>110.000000</td>\n",
       "      <td>360.000000</td>\n",
       "      <td>1.000000</td>\n",
       "      <td>1.000000</td>\n",
       "      <td>1.000000</td>\n",
       "    </tr>\n",
       "    <tr>\n",
       "      <th>75%</th>\n",
       "      <td>1.000000</td>\n",
       "      <td>1.000000</td>\n",
       "      <td>1.000000</td>\n",
       "      <td>1.000000</td>\n",
       "      <td>0.000000</td>\n",
       "      <td>4288.000000</td>\n",
       "      <td>2016.000000</td>\n",
       "      <td>127.000000</td>\n",
       "      <td>360.000000</td>\n",
       "      <td>1.000000</td>\n",
       "      <td>2.000000</td>\n",
       "      <td>1.000000</td>\n",
       "    </tr>\n",
       "    <tr>\n",
       "      <th>max</th>\n",
       "      <td>1.000000</td>\n",
       "      <td>1.000000</td>\n",
       "      <td>3.000000</td>\n",
       "      <td>1.000000</td>\n",
       "      <td>1.000000</td>\n",
       "      <td>9703.000000</td>\n",
       "      <td>33837.000000</td>\n",
       "      <td>150.000000</td>\n",
       "      <td>480.000000</td>\n",
       "      <td>1.000000</td>\n",
       "      <td>2.000000</td>\n",
       "      <td>1.000000</td>\n",
       "    </tr>\n",
       "  </tbody>\n",
       "</table>\n",
       "</div>"
      ],
      "text/plain": [
       "           Gender     Married  Dependents   Education  Self_Employed  \\\n",
       "count  381.000000  381.000000  381.000000  381.000000     381.000000   \n",
       "mean     0.776903    0.598425    0.666667    0.270341       0.091864   \n",
       "std      0.416870    0.490861    0.987643    0.444720       0.289213   \n",
       "min      0.000000    0.000000    0.000000    0.000000       0.000000   \n",
       "25%      1.000000    0.000000    0.000000    0.000000       0.000000   \n",
       "50%      1.000000    1.000000    0.000000    0.000000       0.000000   \n",
       "75%      1.000000    1.000000    1.000000    1.000000       0.000000   \n",
       "max      1.000000    1.000000    3.000000    1.000000       1.000000   \n",
       "\n",
       "       ApplicantIncome  CoapplicantIncome  LoanAmount  Loan_Amount_Term  \\\n",
       "count       381.000000         381.000000  381.000000        381.000000   \n",
       "mean       3579.845144        1277.275381  104.986877        341.417323   \n",
       "std        1419.813818        2340.818114   28.358464         67.625957   \n",
       "min         150.000000           0.000000    9.000000         12.000000   \n",
       "25%        2600.000000           0.000000   90.000000        360.000000   \n",
       "50%        3333.000000         983.000000  110.000000        360.000000   \n",
       "75%        4288.000000        2016.000000  127.000000        360.000000   \n",
       "max        9703.000000       33837.000000  150.000000        480.000000   \n",
       "\n",
       "       Credit_History  Property_Area  Loan_Status  \n",
       "count      381.000000     381.000000   381.000000  \n",
       "mean         0.850394       1.052493     0.711286  \n",
       "std          0.357154       0.779592     0.453761  \n",
       "min          0.000000       0.000000     0.000000  \n",
       "25%          1.000000       0.000000     0.000000  \n",
       "50%          1.000000       1.000000     1.000000  \n",
       "75%          1.000000       2.000000     1.000000  \n",
       "max          1.000000       2.000000     1.000000  "
      ]
     },
     "execution_count": 14,
     "metadata": {},
     "output_type": "execute_result"
    }
   ],
   "source": [
    "# Analysing the distribution and scope of the numerical characteristics in the dataset.\n",
    "data.describe()"
   ]
  },
  {
   "cell_type": "code",
   "execution_count": 15,
   "id": "0383b5d1",
   "metadata": {},
   "outputs": [
    {
     "data": {
      "text/plain": [
       "False"
      ]
     },
     "execution_count": 15,
     "metadata": {},
     "output_type": "execute_result"
    }
   ],
   "source": [
    "# Check duplicate values in the dataset\n",
    "data_dup = data.duplicated().any()\n",
    "data_dup"
   ]
  },
  {
   "cell_type": "code",
   "execution_count": 16,
   "id": "6c91ebaf",
   "metadata": {},
   "outputs": [],
   "source": [
    "# If duplicates exist, drop them\n",
    "data = data.drop_duplicates()"
   ]
  },
  {
   "cell_type": "code",
   "execution_count": 17,
   "id": "6de6ef2b",
   "metadata": {},
   "outputs": [],
   "source": [
    "# Split the data into test and train data using test train split.\n",
    "# The train data should not contain the Loan_Status column because it shows if the Loan is approved or not.\n",
    "X = data.drop(['Loan_Status'], axis=1)\n",
    "y = data['Loan_Status']\n",
    "# Splitting the train and test data into 80% and 20% respectively.\n",
    "X_train, X_test, y_train, y_test = train_test_split(X, y, test_size=0.2, random_state=42)"
   ]
  },
  {
   "cell_type": "code",
   "execution_count": 18,
   "id": "9378b678",
   "metadata": {},
   "outputs": [
    {
     "name": "stdout",
     "output_type": "stream",
     "text": [
      "Class Distribution:\n",
      "Loan_Status\n",
      "1    271\n",
      "0    110\n",
      "Name: count, dtype: int64\n"
     ]
    }
   ],
   "source": [
    "# Checking the class distribution\n",
    "# value_counts: https://pandas.pydata.org/pandas-docs/stable/reference/api/pandas.Series.value_counts.html \n",
    "count = y.value_counts()\n",
    "print(\"Class Distribution:\")\n",
    "print(count)"
   ]
  },
  {
   "cell_type": "code",
   "execution_count": 19,
   "id": "044bbbda",
   "metadata": {},
   "outputs": [
    {
     "name": "stdout",
     "output_type": "stream",
     "text": [
      "Minority Class Percentage: 29.28%\n",
      "Imbalance Degree: Mild\n"
     ]
    }
   ],
   "source": [
    "# Calculate class distribution\n",
    "\n",
    "# This code has been referred from\n",
    "# https://stackoverflow.com/questions/78687893/class-imbalance-calculation-for-each-class-in-a-dataset\n",
    "# https://developers.google.com/machine-learning/crash-course/overfitting/imbalanced-datasets\n",
    "\n",
    "# Count the no. of instances in each class\n",
    "count = Counter(y_train)\n",
    "# Determine the class counts\n",
    "majority = max(count.values())\n",
    "minority = min(count.values())\n",
    "# Calculate the percentage of the minority class\n",
    "total = sum(count.values())\n",
    "percentage = (minority / total) * 100\n",
    "# Determine the degree of imbalance\n",
    "if percentage >= 20:\n",
    "    degreeOfImbalance = \"Mild\"\n",
    "elif percentage > 1:\n",
    "    degreeOfImbalance = \"Moderate\"\n",
    "else:\n",
    "    degreeOfImbalance = \"Extreme\"\n",
    "# Print the Minority Class Percentage and Imbalance Degree\n",
    "print(f\"Minority Class Percentage: {percentage:.2f}%\")\n",
    "print(f\"Imbalance Degree: {degreeOfImbalance}\")"
   ]
  },
  {
   "cell_type": "code",
   "execution_count": 20,
   "id": "aaf4d69d",
   "metadata": {},
   "outputs": [
    {
     "name": "stdout",
     "output_type": "stream",
     "text": [
      "After Oversampling Counter({1: 215, 0: 215})\n"
     ]
    }
   ],
   "source": [
    "# Oversampling using SMOTE(Synthetic Minority Oversampling Technique)\n",
    "\n",
    "# This code has been referred from\n",
    "# https://imbalanced-learn.org/stable/references/generated/imblearn.over_sampling.SMOTE.html\n",
    "# https://www.analyticsvidhya.com/blog/2020/10/overcoming-class-imbalance-using-smote-techniques/\n",
    "# Initialize SMOTE for oversampling\n",
    "smt = SMOTE(random_state=42)\n",
    "# Oversampling the train dataset\n",
    "X_train, y_train = smt.fit_resample(X_train, y_train)\n",
    "# Print class distribution after Oversampling\n",
    "counter = Counter(y_train)\n",
    "print(\"After Oversampling\", counter)"
   ]
  },
  {
   "cell_type": "code",
   "execution_count": null,
   "id": "f2b05795",
   "metadata": {},
   "outputs": [],
   "source": []
  },
  {
   "cell_type": "code",
   "execution_count": 21,
   "id": "8394687f",
   "metadata": {},
   "outputs": [],
   "source": [
    "# Standard Scaler is used to ensure that every feature provides an equal part in the process of training the model.\n",
    "# Initialize the scaler\n",
    "scaler = StandardScaler()\n",
    "# Fit on training data and transform the training and test data.\n",
    "X_train = scaler.fit_transform(X_train)\n",
    "X_test = scaler.transform(X_test)"
   ]
  },
  {
   "cell_type": "code",
   "execution_count": 22,
   "id": "6e6379da",
   "metadata": {},
   "outputs": [],
   "source": [
    "# Initialize an empty dictionary \"score\" to store the values of accuracy, precision, recall, and f1-score of the algorithms \n",
    "# with their names as 'key' and their 'metric value' as 'value'.\n",
    "score = {}"
   ]
  },
  {
   "cell_type": "code",
   "execution_count": 23,
   "id": "de542e83",
   "metadata": {},
   "outputs": [],
   "source": [
    "# Model Definition and Training"
   ]
  },
  {
   "cell_type": "code",
   "execution_count": 24,
   "id": "dec8ccab",
   "metadata": {},
   "outputs": [],
   "source": [
    "# Cross-validation is a robust statistical technique used to assess the performance and generalizability \n",
    "# of a machine learning model. \n",
    "# It helps to ensure that a model performs well not only on the data it was trained on but also on unseen data.\n",
    "# When cv= None, then it uses default 5-fold cross-validation."
   ]
  },
  {
   "cell_type": "code",
   "execution_count": 25,
   "id": "40adaf3d",
   "metadata": {},
   "outputs": [
    {
     "name": "stdout",
     "output_type": "stream",
     "text": [
      "Logistic Regression\n",
      "Accuracy: 0.79\n",
      "Precision: 0.81\n",
      "Recall: 0.93\n",
      "F1 Score: 0.87\n"
     ]
    },
    {
     "data": {
      "text/plain": [
       "<Figure size 576x432 with 0 Axes>"
      ]
     },
     "metadata": {},
     "output_type": "display_data"
    },
    {
     "data": {
      "image/png": "[encoded data removed]",
      "text/plain": [
       "<Figure size 432x288 with 2 Axes>"
      ]
     },
     "metadata": {
      "needs_background": "light"
     },
     "output_type": "display_data"
    }
   ],
   "source": [
    "# Logistic Regression\n",
    "\n",
    "# random_state: Setting a random_state value sets the integer for the random seed which helps to produce the same results\n",
    "# when the same integer is set, it will produce the same splitting datasets every time when the code is ran.\n",
    "# Reference: https://kishanmodasiya.medium.com/what-the-heck-is-random-state-24a7a8389f3d\n",
    "# max_iter: The maximum number of iterations.\n",
    "# This code has been referred from\n",
    "# https://www.oreilly.com/library/view/hands-on-machine-learning/9781492032632/\n",
    "# https://scikit-learn.org/stable/modules/generated/sklearn.linear_model.LogisticRegression.html\n",
    "# Initialize the Logistic Regression\n",
    "logReg = LogisticRegression(random_state=42, max_iter=1000)\n",
    "# Train the Logistic Regression model using the provided training data\n",
    "logReg.fit(X_train, y_train)\n",
    "# Make predictions on the test data\n",
    "logReg_y_pred = logReg.predict(X_test)\n",
    "\n",
    "# Calculate the performance metrics\n",
    "accuracy = round(accuracy_score(y_test, logReg_y_pred), 2)\n",
    "precision = round(precision_score(y_test, logReg_y_pred), 2)\n",
    "recall = round(recall_score(y_test, logReg_y_pred), 2)\n",
    "f1 = round(f1_score(y_test, logReg_y_pred), 2)\n",
    "\n",
    "# Store the performance metrics of the model in the 'score' dictionary\n",
    "score['Logistic Regression'] = {\n",
    "    'Accuracy': accuracy,\n",
    "    'Precision': precision,\n",
    "    'Recall': recall,\n",
    "    'F1 Score': f1\n",
    "}\n",
    "\n",
    "# Print the performance metrics\n",
    "print(\"Logistic Regression\")\n",
    "print(\"Accuracy:\", accuracy)\n",
    "print(\"Precision:\", precision)\n",
    "print(\"Recall:\", recall)\n",
    "print(\"F1 Score:\", f1)\n",
    "\n",
    "# Calculate the Confusion Matrix to understand the performance of the model\n",
    "cm = confusion_matrix(y_test, logReg_y_pred)\n",
    "# Set the figure size\n",
    "plt.figure(figsize=(8, 6))\n",
    "# Use scikit-learn's built-in function to plot the confusion matrix\n",
    "plot_confusion_matrix(logReg, X_test, y_test, values_format='d')\n",
    "# Title of the plot\n",
    "plt.title('Confusion Matrix for Logistic Regression')\n",
    "# Labels for X-axis and Y-axis\n",
    "plt.xlabel('Predicted')\n",
    "plt.ylabel('Actual')\n",
    "# Display the plot\n",
    "plt.show()"
   ]
  },
  {
   "cell_type": "code",
   "execution_count": 26,
   "id": "58862088",
   "metadata": {},
   "outputs": [
    {
     "name": "stdout",
     "output_type": "stream",
     "text": [
      "Fitting 5 folds for each of 36 candidates, totalling 180 fits\n",
      "Optimal Parameters for Logistic Regression: {'C': 0.1, 'max_iter': 100, 'solver': 'lbfgs'}\n",
      "Logistic Regression Hyperparameter Tuned\n",
      "Accuracy: 0.81\n",
      "Precision: 0.82\n",
      "Recall: 0.95\n",
      "F1 Score: 0.88\n"
     ]
    },
    {
     "data": {
      "text/plain": [
       "<Figure size 576x432 with 0 Axes>"
      ]
     },
     "metadata": {},
     "output_type": "display_data"
    },
    {
     "data": {
      "image/png": "[encoded data removed]",
      "text/plain": [
       "<Figure size 432x288 with 2 Axes>"
      ]
     },
     "metadata": {
      "needs_background": "light"
     },
     "output_type": "display_data"
    }
   ],
   "source": [
    "# Logistic Regression Hyperparamter Tuned\n",
    "\n",
    "# C: Regularisation Strength. Regularisation is a technique used in machine learning to \n",
    "# prevent overfitting by adding a penalty to the model's complexity.\n",
    "# solver: Algorithm to use in the optimisation problem\n",
    "# verbose=3: Shows the most detailed output. It displays every parameter combination being evaluated, \n",
    "# along with detailed information about each step of the process.\n",
    "# n_jobs=-1: Uses all available cores on the machine for parallel processing.\n",
    "# refit=True: This parameter means that after finding the best hyperparameters, \n",
    "# GridSearchCV will automatically re-train the model using these optimal settings on the entire training dataset.\n",
    "# When cv= None, then it uses default 5-fold cross-validation.\n",
    "# The code has been referred from\n",
    "# https://www.oreilly.com/library/view/hands-on-machine-learning/9781492032632/\n",
    "# https://scikit-learn.org/stable/modules/generated/sklearn.linear_model.LogisticRegression.html\n",
    "# https://scikit-learn.org/stable/modules/generated/sklearn.model_selection.GridSearchCV.html\n",
    "# Define the parameter grid for Logistic Regression\n",
    "parametersLogReg = {\n",
    "    'C': [0.1, 0.5, 0.8, 1],\n",
    "    'solver': ['lbfgs', 'saga', 'newton-cg'],\n",
    "    'max_iter': [100, 200, 500]\n",
    "}\n",
    "# Initialize the Logistic Regression model\n",
    "logReg = LogisticRegression(random_state=42)\n",
    "# Find the best hyperparameters using GridSearchCV\n",
    "logRegGrid = GridSearchCV(logReg, parametersLogReg, refit=True, cv=None, verbose=3, n_jobs=-1)\n",
    "# Fit the Logistic Regression model on training data\n",
    "logRegGrid.fit(X_train, y_train)\n",
    "# Print best parameters found by using GridSearchCV\n",
    "bestLogReg = logRegGrid.best_params_\n",
    "print(\"Optimal Parameters for Logistic Regression:\", bestLogReg)\n",
    "\n",
    "# Train the Logistic Regression model using the optimal hyperparameters found\n",
    "optLogReg = LogisticRegression(\n",
    "    C = bestLogReg['C'],\n",
    "    solver = bestLogReg['solver'],\n",
    "    max_iter = bestLogReg['max_iter'],\n",
    "    random_state = 42\n",
    ")\n",
    "# Fit the optmised model \n",
    "optLogReg.fit(X_train, y_train)\n",
    "# Make predictions on the test data\n",
    "logReg_y_pred_ht = optLogReg.predict(X_test)\n",
    "\n",
    "# Calculate the performance metrics\n",
    "accuracy = round(accuracy_score(y_test, logReg_y_pred_ht), 2)\n",
    "precision = round(precision_score(y_test, logReg_y_pred_ht), 2)\n",
    "recall = round(recall_score(y_test, logReg_y_pred_ht), 2)\n",
    "f1 = round(f1_score(y_test, logReg_y_pred_ht), 2)\n",
    "\n",
    "# Store the performance metrics of the model in the 'score' dictionary\n",
    "score['Logistic Regression Hyperparameter Tuned'] = {\n",
    "    'Accuracy': accuracy,\n",
    "    'Precision': precision,\n",
    "    'Recall': recall,\n",
    "    'F1 Score': f1\n",
    "}\n",
    "\n",
    "# Print the performance metrics\n",
    "print(\"Logistic Regression Hyperparameter Tuned\")\n",
    "print(\"Accuracy:\", accuracy)\n",
    "print(\"Precision:\", precision)\n",
    "print(\"Recall:\", recall)\n",
    "print(\"F1 Score:\", f1)\n",
    "\n",
    "# Calculate the Confusion Matrix to understand the performance of the model\n",
    "cm = confusion_matrix(y_test, logReg_y_pred_ht)\n",
    "# Set the figure size\n",
    "plt.figure(figsize=(8, 6))\n",
    "# Use scikit-learn's built-in function to plot the confusion matrix\n",
    "plot_confusion_matrix(optLogReg, X_test, y_test, values_format='d')\n",
    "# Title of the plot\n",
    "plt.title('Confusion Matrix for Logistic Regression')\n",
    "# Labels for X-axis and Y-axis\n",
    "plt.xlabel('Predicted')\n",
    "plt.ylabel('Actual')\n",
    "# Display the plot\n",
    "plt.show()"
   ]
  },
  {
   "cell_type": "code",
   "execution_count": null,
   "id": "23335bfd",
   "metadata": {},
   "outputs": [],
   "source": []
  },
  {
   "cell_type": "code",
   "execution_count": 27,
   "id": "72dc41d2",
   "metadata": {},
   "outputs": [
    {
     "name": "stdout",
     "output_type": "stream",
     "text": [
      "Decision Tree\n",
      "Accuracy: 0.74\n",
      "Precision: 0.81\n",
      "Recall: 0.84\n",
      "F1 Score: 0.82\n"
     ]
    },
    {
     "data": {
      "text/plain": [
       "<Figure size 576x432 with 0 Axes>"
      ]
     },
     "metadata": {},
     "output_type": "display_data"
    },
    {
     "data": {
      "image/png": "[encoded data removed]",
      "text/plain": [
       "<Figure size 432x288 with 2 Axes>"
      ]
     },
     "metadata": {
      "needs_background": "light"
     },
     "output_type": "display_data"
    }
   ],
   "source": [
    "# Decision Tree\n",
    "\n",
    "# This code has been referred from\n",
    "# https://www.oreilly.com/library/view/hands-on-machine-learning/9781492032632/\n",
    "# https://scikit-learn.org/stable/modules/generated/sklearn.tree.DecisionTreeClassifier.html\n",
    "# Initialize the Decision Tree Classifier\n",
    "dTree = DecisionTreeClassifier(random_state=42)\n",
    "# Train the Decision Tree model using the provided training data\n",
    "dTree.fit(X_train, y_train)\n",
    "# Make predictions on the test data\n",
    "dTree_y_pred = dTree.predict(X_test)\n",
    "\n",
    "# Calculate the performance metrics\n",
    "accuracy = round(accuracy_score(y_test, dTree_y_pred), 2)\n",
    "precision = round(precision_score(y_test, dTree_y_pred), 2)\n",
    "recall = round(recall_score(y_test, dTree_y_pred), 2)\n",
    "f1 = round(f1_score(y_test, dTree_y_pred), 2)\n",
    "\n",
    "# Store the performance metrics of the model in the 'score' dictionary\n",
    "score['Decision Tree'] = {\n",
    "    'Accuracy': accuracy,\n",
    "    'Precision': precision,\n",
    "    'Recall': recall,\n",
    "    'F1 Score': f1\n",
    "}\n",
    "\n",
    "# Print the Accuracy, Precision, Recall, and F1 Score\n",
    "print(\"Decision Tree\")\n",
    "print(\"Accuracy:\", accuracy)\n",
    "print(\"Precision:\", precision)\n",
    "print(\"Recall:\", recall)\n",
    "print(\"F1 Score:\", f1)\n",
    "\n",
    "# Calculate the Confusion Matrix to understand the performance of the model\n",
    "cm = confusion_matrix(y_test, dTree_y_pred)\n",
    "# Set the figure size\n",
    "plt.figure(figsize=(8, 6))\n",
    "# Use scikit-learn's built-in function to plot the confusion matrix\n",
    "plot_confusion_matrix(dTree, X_test, y_test, values_format='d')\n",
    "# Title of the plot\n",
    "plt.title('Confusion Matrix for Decision Tree')\n",
    "# Labels for X-axis and Y-axis\n",
    "plt.xlabel('Predicted')\n",
    "plt.ylabel('Actual')\n",
    "# Display the plot\n",
    "plt.show()"
   ]
  },
  {
   "cell_type": "code",
   "execution_count": 28,
   "id": "c008b060",
   "metadata": {},
   "outputs": [
    {
     "name": "stdout",
     "output_type": "stream",
     "text": [
      "Fitting 5 folds for each of 90 candidates, totalling 450 fits\n",
      "Optimal Parameters for Decision Tree: {'max_depth': 10, 'max_leaf_nodes': 20, 'min_samples_leaf': 1, 'min_samples_split': 3}\n",
      "Decision Tree Hyperparameter Tuned\n",
      "Accuracy: 0.78\n",
      "Precision: 0.81\n",
      "Recall: 0.91\n",
      "F1 Score: 0.86\n"
     ]
    },
    {
     "data": {
      "text/plain": [
       "<Figure size 576x432 with 0 Axes>"
      ]
     },
     "metadata": {},
     "output_type": "display_data"
    },
    {
     "data": {
      "image/png": "[encoded data removed]",
      "text/plain": [
       "<Figure size 432x288 with 2 Axes>"
      ]
     },
     "metadata": {
      "needs_background": "light"
     },
     "output_type": "display_data"
    }
   ],
   "source": [
    "# Decision Tree Hyperparameter Tuned\n",
    "\n",
    "# max_depth: The maximum depth of the tree.\n",
    "# min_samples_split: This parameter specifies the minimum number of samples required to split an internal node.\n",
    "# min_samples_leaf: This parameter specifies the minimum number of samples required to be at a leaf node.\n",
    "# max_leaf_nodes: This parameter specifies the maximum number of leaf nodes in the tree.\n",
    "# The code has been referred from\n",
    "# https://www.oreilly.com/library/view/hands-on-machine-learning/9781492032632/\n",
    "# https://scikit-learn.org/stable/modules/generated/sklearn.tree.DecisionTreeClassifier.html\n",
    "# https://scikit-learn.org/stable/modules/generated/sklearn.model_selection.GridSearchCV.html\n",
    "# Define the parameter grid for Decision Tree\n",
    "parametersdTree = {\n",
    "    'max_depth': [8, 10, 12],\n",
    "    'min_samples_split': [3, 4],\n",
    "    'min_samples_leaf': [1, 4, 5],\n",
    "    'max_leaf_nodes': [None, 10, 20, 25, 30]\n",
    "}\n",
    "\n",
    "# Initialize the Decision Tree Classifier\n",
    "dTree = DecisionTreeClassifier(random_state=42)\n",
    "# Find the best hyperparameters using GridSearchCV\n",
    "dTreeGrid = GridSearchCV(dTree, parametersdTree, refit=True, cv=None, verbose=3, n_jobs=-1)\n",
    "# Fit the Decision Tree model on training data\n",
    "dTreeGrid.fit(X_train, y_train)\n",
    "# Print best parameters and scores for Decision Tree GridSearchCV\n",
    "bestDTree = dTreeGrid.best_params_\n",
    "print(\"Optimal Parameters for Decision Tree:\", bestDTree)\n",
    "\n",
    "# Train the Decision Tree model using the optimal hyperparameters found\n",
    "optDTree = DecisionTreeClassifier(\n",
    "    max_depth = bestDTree['max_depth'],\n",
    "    min_samples_split = bestDTree['min_samples_split'],\n",
    "    min_samples_leaf = bestDTree['min_samples_leaf'],\n",
    "    max_leaf_nodes = bestDTree['max_leaf_nodes'],\n",
    "    random_state = 42\n",
    ")\n",
    "# Fit the optmised model\n",
    "optDTree.fit(X_train, y_train)\n",
    "# Make predictions on the test data\n",
    "dTree_y_pred_ht = optDTree.predict(X_test)\n",
    "\n",
    "# Calculate the performance metrics\n",
    "accuracy = round(accuracy_score(y_test, dTree_y_pred_ht), 2)\n",
    "precision = round(precision_score(y_test, dTree_y_pred_ht), 2)\n",
    "recall = round(recall_score(y_test, dTree_y_pred_ht), 2)\n",
    "f1 = round(f1_score(y_test, dTree_y_pred_ht), 2)\n",
    "\n",
    "# Store the performance metrics of the model in the 'score' dictionary\n",
    "score['Decision Tree Hyperparameter Tuned'] = {\n",
    "    'Accuracy': accuracy,\n",
    "    'Precision': precision,\n",
    "    'Recall': recall,\n",
    "    'F1 Score': f1\n",
    "}\n",
    "\n",
    "# Print the Accuracy, Precision, Recall, and F1 Score\n",
    "print(\"Decision Tree Hyperparameter Tuned\")\n",
    "print(\"Accuracy:\", accuracy)\n",
    "print(\"Precision:\", precision)\n",
    "print(\"Recall:\", recall)\n",
    "print(\"F1 Score:\", f1)\n",
    "\n",
    "# Calculate the Confusion Matrix to understand the performance of the model\n",
    "cm = confusion_matrix(y_test, dTree_y_pred_ht)\n",
    "# Set the figure size\n",
    "plt.figure(figsize=(8, 6))\n",
    "# Use scikit-learn's built-in function to plot the confusion matrix\n",
    "plot_confusion_matrix(optDTree, X_test, y_test, values_format='d')\n",
    "# Title of the plot\n",
    "plt.title('Confusion Matrix for Decision Tree Hyperparameter Tuned')\n",
    "# Labels for X-axis and Y-axis\n",
    "plt.xlabel('Predicted')\n",
    "plt.ylabel('Actual')\n",
    "# Display the plot\n",
    "plt.show()"
   ]
  },
  {
   "cell_type": "code",
   "execution_count": null,
   "id": "6f97441d",
   "metadata": {},
   "outputs": [],
   "source": []
  },
  {
   "cell_type": "code",
   "execution_count": 29,
   "id": "f07e1232",
   "metadata": {},
   "outputs": [
    {
     "name": "stdout",
     "output_type": "stream",
     "text": [
      "Random Forest\n",
      "Accuracy: 0.81\n",
      "Precision: 0.8\n",
      "Recall: 0.98\n",
      "F1 Score: 0.88\n"
     ]
    },
    {
     "data": {
      "text/plain": [
       "<Figure size 576x432 with 0 Axes>"
      ]
     },
     "metadata": {},
     "output_type": "display_data"
    },
    {
     "data": {
      "image/png": "[encoded data removed]",
      "text/plain": [
       "<Figure size 432x288 with 2 Axes>"
      ]
     },
     "metadata": {
      "needs_background": "light"
     },
     "output_type": "display_data"
    }
   ],
   "source": [
    "# Random Forest\n",
    "\n",
    "# This code has been referred from\n",
    "# https://www.oreilly.com/library/view/hands-on-machine-learning/9781492032632/\n",
    "# https://scikit-learn.org/stable/modules/generated/sklearn.ensemble.RandomForestClassifier.html\n",
    "# Initialize the Random Forest Classifier\n",
    "rForest = RandomForestClassifier(random_state=42)\n",
    "# Train the Random Forest model using the provided training data\n",
    "rForest.fit(X_train, y_train)\n",
    "# Make predictions on the test data\n",
    "rForest_y_pred = rForest.predict(X_test)\n",
    "\n",
    "# Calculate the performance metrics\n",
    "accuracy = round(accuracy_score(y_test, rForest_y_pred), 2)\n",
    "precision = round(precision_score(y_test, rForest_y_pred), 2)\n",
    "recall = round(recall_score(y_test, rForest_y_pred), 2)\n",
    "f1 = round(f1_score(y_test, rForest_y_pred), 2)\n",
    "\n",
    "# Store the performance metrics of the model in the 'score' dictionary\n",
    "score['Random Forest'] = {\n",
    "    'Accuracy': accuracy,\n",
    "    'Precision': precision,\n",
    "    'Recall': recall,\n",
    "    'F1 Score': f1\n",
    "}\n",
    "\n",
    "# Print the performance metrics\n",
    "print(\"Random Forest\")\n",
    "print(\"Accuracy:\", accuracy)\n",
    "print(\"Precision:\", precision)\n",
    "print(\"Recall:\", recall)\n",
    "print(\"F1 Score:\", f1)\n",
    "\n",
    "# Calculate the Confusion Matrix to understand the performance of the model\n",
    "cm = confusion_matrix(y_test, rForest_y_pred)\n",
    "# Set the figure size\n",
    "plt.figure(figsize=(8, 6))\n",
    "# Use scikit-learn's built-in function to plot the confusion matrix\n",
    "plot_confusion_matrix(rForest, X_test, y_test, values_format='d')\n",
    "# Title of the plot\n",
    "plt.title('Confusion Matrix for Random Forest')\n",
    "# Labels for X-axis and Y-axis\n",
    "plt.xlabel('Predicted')\n",
    "plt.ylabel('Actual')\n",
    "# Display the plot\n",
    "plt.show()"
   ]
  },
  {
   "cell_type": "code",
   "execution_count": 30,
   "id": "64f27d54",
   "metadata": {},
   "outputs": [
    {
     "name": "stdout",
     "output_type": "stream",
     "text": [
      "Fitting 5 folds for each of 192 candidates, totalling 960 fits\n",
      "Optimal Parameters for Random Forest: {'bootstrap': True, 'criterion': 'gini', 'max_depth': 10, 'max_features': 'auto', 'min_samples_leaf': 1, 'min_samples_split': 2, 'n_estimators': 100}\n",
      "Random Forest Hyperparameter Tuned\n",
      "Accuracy: 0.81\n",
      "Precision: 0.8\n",
      "Recall: 0.98\n",
      "F1 Score: 0.88\n"
     ]
    },
    {
     "data": {
      "text/plain": [
       "<Figure size 576x432 with 0 Axes>"
      ]
     },
     "metadata": {},
     "output_type": "display_data"
    },
    {
     "data": {
      "image/png": "[encoded data removed]",
      "text/plain": [
       "<Figure size 432x288 with 2 Axes>"
      ]
     },
     "metadata": {
      "needs_background": "light"
     },
     "output_type": "display_data"
    }
   ],
   "source": [
    "# Random Forest Hyperparameter Tuned\n",
    "\n",
    "# n_estimtors: This parameter specifies the number of trees in the forest.\n",
    "# criterion: It specifies the function used to evaluate the quality of a split at each node of the tree.\n",
    "# bootstrap: This parameter specifies whether bootstrap samples are used when building trees.\n",
    "# This code has been referred from\n",
    "# https://www.oreilly.com/library/view/hands-on-machine-learning/9781492032632/\n",
    "# https://scikit-learn.org/stable/modules/generated/sklearn.ensemble.RandomForestClassifier.html\n",
    "# https://scikit-learn.org/stable/modules/generated/sklearn.model_selection.GridSearchCV.html\n",
    "# Define the parameter grid for Random Forest\n",
    "parametersRForest = {\n",
    "    'n_estimators': [100, 200],\n",
    "    'max_depth': [10, 20],\n",
    "    'max_features': ['auto', 'sqrt', 'log2'],\n",
    "    'min_samples_split': [2, 5],\n",
    "    'min_samples_leaf': [1, 2],\n",
    "    'criterion': ['gini', 'entropy'],\n",
    "    'bootstrap': [True, False]\n",
    "}\n",
    "# Initialize the Random Forest Classifier\n",
    "rForest = RandomForestClassifier(random_state=42)\n",
    "# Find the best hyperparameters using GridSearchCV\n",
    "rForestGrid = GridSearchCV(rForest, parametersRForest, refit=True, cv=None, verbose=3, n_jobs=-1)\n",
    "# Fit the Random Forest model on training data\n",
    "rForestGrid.fit(X_train, y_train)\n",
    "# Print best parameters found by using GridSearchCV\n",
    "bestRForest = rForestGrid.best_params_\n",
    "print(\"Optimal Parameters for Random Forest:\", bestRForest)\n",
    "\n",
    "# Train the Random Forest model using the optimal hyperparameters found\n",
    "optRForest = RandomForestClassifier(\n",
    "    n_estimators = bestRForest['n_estimators'],\n",
    "    max_depth = bestRForest['max_depth'],\n",
    "    max_features = bestRForest['max_features'],\n",
    "    min_samples_split = bestRForest['min_samples_split'],\n",
    "    min_samples_leaf = bestRForest['min_samples_leaf'],\n",
    "    criterion = bestRForest['criterion'],\n",
    "    bootstrap = bestRForest['bootstrap'],\n",
    "    random_state = 42\n",
    ")\n",
    "# Fit the optmised model \n",
    "optRForest.fit(X_train, y_train)\n",
    "# Make predictions on the test data\n",
    "rForest_y_pred_ht = optRForest.predict(X_test)\n",
    "\n",
    "# Calculate the performance metrics\n",
    "accuracy = round(accuracy_score(y_test, rForest_y_pred_ht), 2)\n",
    "precision = round(precision_score(y_test, rForest_y_pred_ht), 2)\n",
    "recall = round(recall_score(y_test, rForest_y_pred_ht), 2)\n",
    "f1 = round(f1_score(y_test, rForest_y_pred_ht), 2)\n",
    "\n",
    "# Store the performance metrics of the model in the 'score' dictionary\n",
    "score['Random Forest Hyperparameter Tuned'] = {\n",
    "    'Accuracy': accuracy,\n",
    "    'Precision': precision,\n",
    "    'Recall': recall,\n",
    "    'F1 Score': f1\n",
    "}\n",
    "\n",
    "# Print the performance metrics\n",
    "print(\"Random Forest Hyperparameter Tuned\")\n",
    "print(\"Accuracy:\", accuracy)\n",
    "print(\"Precision:\", precision)\n",
    "print(\"Recall:\", recall)\n",
    "print(\"F1 Score:\", f1)\n",
    "\n",
    "# Calculate the Confusion Matrix to understand the performance of the model\n",
    "cm = confusion_matrix(y_test, rForest_y_pred_ht)\n",
    "# Set the figure size\n",
    "plt.figure(figsize=(8, 6))\n",
    "# Use scikit-learn's built-in function to plot the confusion matrix\n",
    "plot_confusion_matrix(optRForest, X_test, y_test, values_format='d')\n",
    "# Title of the plot\n",
    "plt.title('Confusion Matrix for Random Forest Hyperparameter Tuned')\n",
    "# Labels for X-axis and Y-axis\n",
    "plt.xlabel('Predicted')\n",
    "plt.ylabel('Actual')\n",
    "# Display the plot\n",
    "plt.show()"
   ]
  },
  {
   "cell_type": "code",
   "execution_count": null,
   "id": "5b8b1c50",
   "metadata": {},
   "outputs": [],
   "source": []
  },
  {
   "cell_type": "code",
   "execution_count": 31,
   "id": "96bbbb78",
   "metadata": {},
   "outputs": [
    {
     "name": "stdout",
     "output_type": "stream",
     "text": [
      "Support Vector Machine (SVM)\n",
      "Accuracy: 0.77\n",
      "Precision: 0.8\n",
      "Recall: 0.91\n",
      "F1 Score: 0.85\n"
     ]
    },
    {
     "data": {
      "text/plain": [
       "<Figure size 576x432 with 0 Axes>"
      ]
     },
     "metadata": {},
     "output_type": "display_data"
    },
    {
     "data": {
      "image/png": "[encoded data removed]",
      "text/plain": [
       "<Figure size 432x288 with 2 Axes>"
      ]
     },
     "metadata": {
      "needs_background": "light"
     },
     "output_type": "display_data"
    }
   ],
   "source": [
    "# Support Vector Machine\n",
    "\n",
    "# This code has been referred from\n",
    "# https://www.oreilly.com/library/view/hands-on-machine-learning/9781492032632/\n",
    "# https://scikit-learn.org/stable/modules/generated/sklearn.svm.SVC.html\n",
    "# Initialize the Support Vector Classifier\n",
    "svm = SVC(random_state=42)\n",
    "# Train the Support Vector Machine model using the provided training data\n",
    "svm.fit(X_train, y_train)\n",
    "# Make predictions on the test data\n",
    "svm_y_pred = svm.predict(X_test)\n",
    "\n",
    "# Calculate the performance metrics\n",
    "accuracy = round(accuracy_score(y_test, svm_y_pred), 2)\n",
    "precision = round(precision_score(y_test, svm_y_pred), 2)\n",
    "recall = round(recall_score(y_test, svm_y_pred), 2)\n",
    "f1 = round(f1_score(y_test, svm_y_pred), 2)\n",
    "\n",
    "# Store the performance metrics of the model in the 'score' dictionary\n",
    "score['SVM'] = {\n",
    "    'Accuracy': accuracy,\n",
    "    'Precision': precision,\n",
    "    'Recall': recall,\n",
    "    'F1 Score': f1\n",
    "}\n",
    "\n",
    "# Print the Accuracy, Precision, Recall, and F1 Score\n",
    "print(\"Support Vector Machine (SVM)\")\n",
    "print(\"Accuracy:\", accuracy)\n",
    "print(\"Precision:\", precision)\n",
    "print(\"Recall:\", recall)\n",
    "print(\"F1 Score:\", f1)\n",
    "\n",
    "# Calculate the Confusion Matrix to understand the performance of the model\n",
    "cm = confusion_matrix(y_test, svm_y_pred)\n",
    "# Set the figure size\n",
    "plt.figure(figsize=(8, 6))\n",
    "# Use scikit-learn's built-in function to plot the confusion matrix\n",
    "plot_confusion_matrix(svm, X_test, y_test, values_format='d')\n",
    "# Title of the plot\n",
    "plt.title('Confusion Matrix for SVM')\n",
    "# Labels for X-axis and Y-axis\n",
    "plt.xlabel('Predicted')\n",
    "plt.ylabel('Actual')\n",
    "# Display the plot\n",
    "plt.show()"
   ]
  },
  {
   "cell_type": "code",
   "execution_count": 32,
   "id": "0aac5659",
   "metadata": {},
   "outputs": [
    {
     "name": "stdout",
     "output_type": "stream",
     "text": [
      "Fitting 5 folds for each of 8 candidates, totalling 40 fits\n",
      "Optimal Parameters for SVM: {'C': 0.5, 'gamma': 'scale'}\n",
      "Support Vector Machine (SVM) Hyperparameter Tuned\n",
      "Accuracy: 0.78\n",
      "Precision: 0.8\n",
      "Recall: 0.93\n",
      "F1 Score: 0.86\n"
     ]
    },
    {
     "data": {
      "text/plain": [
       "<Figure size 576x432 with 0 Axes>"
      ]
     },
     "metadata": {},
     "output_type": "display_data"
    },
    {
     "data": {
      "image/png": "[encoded data removed]",
      "text/plain": [
       "<Figure size 432x288 with 2 Axes>"
      ]
     },
     "metadata": {
      "needs_background": "light"
     },
     "output_type": "display_data"
    }
   ],
   "source": [
    "# Support Vector Machine Hyperparameter Tuned\n",
    "\n",
    "# gamma: Kernel coefficient.\n",
    "# This code has been referred from\n",
    "# https://www.oreilly.com/library/view/hands-on-machine-learning/9781492032632/\n",
    "# https://scikit-learn.org/stable/modules/generated/sklearn.svm.SVC.html\n",
    "# https://scikit-learn.org/stable/modules/generated/sklearn.model_selection.GridSearchCV.html\n",
    "# Define the parameter grid for SVM\n",
    "parametersSVM = {\n",
    "    'C': [0.01, 0.1, 0.2, 0.5],\n",
    "    'gamma': ['scale', 'auto']\n",
    "}\n",
    "# Initialize the SVM model\n",
    "svm = SVC(random_state=42)\n",
    "# Find the best hyperparameters using GridSearchCV\n",
    "svmGrid = GridSearchCV(svm, parametersSVM, refit=True, cv=None, verbose=3, n_jobs=-1)\n",
    "# Fit the SVM model on training data\n",
    "svmGrid.fit(X_train, y_train)\n",
    "# Print best parameters found by using GridSearchCV\n",
    "bestSVM = svmGrid.best_params_\n",
    "print(\"Optimal Parameters for SVM:\", bestSVM)\n",
    "\n",
    "# Train the SVM model using the optimal hyperparameters found\n",
    "optSVM = SVC(\n",
    "    C = bestSVM['C'],\n",
    "    gamma = bestSVM['gamma'],\n",
    "    random_state = 42\n",
    ")\n",
    "# Fit the optmised model\n",
    "optSVM.fit(X_train, y_train)\n",
    "# Make predictions on the test data\n",
    "svm_y_pred_ht = optSVM.predict(X_test)\n",
    "\n",
    "# Calculate the performance metrics\n",
    "accuracy = round(accuracy_score(y_test, svm_y_pred_ht), 2)\n",
    "precision = round(precision_score(y_test, svm_y_pred_ht), 2)\n",
    "recall = round(recall_score(y_test, svm_y_pred_ht), 2)\n",
    "f1 = round(f1_score(y_test, svm_y_pred_ht), 2)\n",
    "\n",
    "# Store the performance metrics of the model in the 'score' dictionary\n",
    "score['SVM Hyperparameter Tuned'] = {\n",
    "    'Accuracy': accuracy,\n",
    "    'Precision': precision,\n",
    "    'Recall': recall,\n",
    "    'F1 Score': f1\n",
    "}\n",
    "\n",
    "# Print the performance metrics\n",
    "print(\"Support Vector Machine (SVM) Hyperparameter Tuned\")\n",
    "print(\"Accuracy:\", accuracy)\n",
    "print(\"Precision:\", precision)\n",
    "print(\"Recall:\", recall)\n",
    "print(\"F1 Score:\", f1)\n",
    "\n",
    "# Calculate the Confusion Matrix to understand the performance of the model\n",
    "cm = confusion_matrix(y_test, svm_y_pred_ht)\n",
    "# Set the figure size\n",
    "plt.figure(figsize=(8, 6))\n",
    "# Use scikit-learn's built-in function to plot the confusion matrix\n",
    "plot_confusion_matrix(optSVM, X_test, y_test, values_format='d')\n",
    "# Title of the plot\n",
    "plt.title('Confusion Matrix for SVM Hyperparameter Tuned')\n",
    "# Labels for X-axis and Y-axis\n",
    "plt.xlabel('Predicted')\n",
    "plt.ylabel('Actual')\n",
    "# Display the plot\n",
    "plt.show()"
   ]
  },
  {
   "cell_type": "code",
   "execution_count": null,
   "id": "eb35ace8",
   "metadata": {},
   "outputs": [],
   "source": []
  },
  {
   "cell_type": "code",
   "execution_count": 33,
   "id": "9f573ecb",
   "metadata": {},
   "outputs": [
    {
     "name": "stdout",
     "output_type": "stream",
     "text": [
      "K-Nearest Neighbors (KNN)\n",
      "Accuracy: 0.75\n",
      "Precision: 0.81\n",
      "Recall: 0.86\n",
      "F1 Score: 0.83\n"
     ]
    },
    {
     "data": {
      "text/plain": [
       "<Figure size 576x432 with 0 Axes>"
      ]
     },
     "metadata": {},
     "output_type": "display_data"
    },
    {
     "data": {
      "image/png": "[encoded data removed]",
      "text/plain": [
       "<Figure size 432x288 with 2 Axes>"
      ]
     },
     "metadata": {
      "needs_background": "light"
     },
     "output_type": "display_data"
    }
   ],
   "source": [
    "# K-Nearest Neighbours\n",
    "\n",
    "# This code has been referred from\n",
    "# https://www.oreilly.com/library/view/hands-on-machine-learning/9781492032632/\n",
    "# https://scikit-learn.org/stable/modules/generated/sklearn.neighbors.KNeighborsClassifier.html\n",
    "# Initialize the K Neighbors Classifier\n",
    "knn = KNeighborsClassifier()\n",
    "# Train the KNN model using the provided training data\n",
    "knn.fit(X_train, y_train)\n",
    "# Make predictions on the test data\n",
    "knn_y_pred = knn.predict(X_test)\n",
    "\n",
    "# Calculate the performance metrics\n",
    "accuracy = round(accuracy_score(y_test, knn_y_pred), 2)\n",
    "precision = round(precision_score(y_test, knn_y_pred), 2)\n",
    "recall = round(recall_score(y_test, knn_y_pred), 2)\n",
    "f1 = round(f1_score(y_test, knn_y_pred), 2)\n",
    "\n",
    "# Store the performance metrics of the model in the 'score' dictionary\n",
    "score['KNN'] = {\n",
    "    'Accuracy': accuracy,\n",
    "    'Precision': precision,\n",
    "    'Recall': recall,\n",
    "    'F1 Score': f1\n",
    "}\n",
    "\n",
    "# Print the performance metrics\n",
    "print(\"K-Nearest Neighbors (KNN)\")\n",
    "print(\"Accuracy:\", accuracy)\n",
    "print(\"Precision:\", precision)\n",
    "print(\"Recall:\", recall)\n",
    "print(\"F1 Score:\", f1)\n",
    "\n",
    "# Calculate the Confusion Matrix to understand the performance of the model\n",
    "cm = confusion_matrix(y_test, knn_y_pred)\n",
    "# Set the figure size\n",
    "plt.figure(figsize=(8, 6))\n",
    "# Use scikit-learn's built-in function to plot the confusion matrix\n",
    "plot_confusion_matrix(knn, X_test, y_test, values_format='d')\n",
    "# Title of the plot\n",
    "plt.title('Confusion Matrix for KNN')\n",
    "# Labels for X-axis and Y-axis\n",
    "plt.xlabel('Predicted')\n",
    "plt.ylabel('Actual')\n",
    "# Display the plot\n",
    "plt.show()"
   ]
  },
  {
   "cell_type": "code",
   "execution_count": 34,
   "id": "d7018787",
   "metadata": {},
   "outputs": [
    {
     "name": "stdout",
     "output_type": "stream",
     "text": [
      "Fitting 5 folds for each of 16 candidates, totalling 80 fits\n",
      "Optimal Parameters for KNN: {'n_neighbors': 11, 'p': 1, 'weights': 'distance'}\n",
      "K-Nearest Neighbors (KNN) Hyperparameter Tuned\n",
      "Accuracy: 0.78\n",
      "Precision: 0.79\n",
      "Recall: 0.95\n",
      "F1 Score: 0.86\n"
     ]
    },
    {
     "data": {
      "text/plain": [
       "<Figure size 720x576 with 0 Axes>"
      ]
     },
     "metadata": {},
     "output_type": "display_data"
    },
    {
     "data": {
      "image/png": "[encoded data removed]",
      "text/plain": [
       "<Figure size 432x288 with 2 Axes>"
      ]
     },
     "metadata": {
      "needs_background": "light"
     },
     "output_type": "display_data"
    }
   ],
   "source": [
    "#KNN Hyperparameter Tuned\n",
    "\n",
    "# weights: Determines how much influence each of the nearest neighbors has when making predictions.\n",
    "# p=1: Manhattan Distance, p=2: Euclidean Distance\n",
    "# This code has been referred from\n",
    "# https://www.oreilly.com/library/view/hands-on-machine-learning/9781492032632/\n",
    "# https://scikit-learn.org/stable/modules/generated/sklearn.neighbors.KNeighborsClassifier.html\n",
    "# https://scikit-learn.org/stable/modules/generated/sklearn.model_selection.GridSearchCV.html\n",
    "# Define the parameter grid for KNN\n",
    "parametersKNN = {\n",
    "    'n_neighbors': [3, 5, 7, 11],\n",
    "    'weights': ['uniform', 'distance'],\n",
    "    'p': [1, 2]\n",
    "}\n",
    "# Initialize the K Neighbors Classifier\n",
    "knn = KNeighborsClassifier()\n",
    "# Find the best hyperparameters using GridSearchCV\n",
    "knnGrid = GridSearchCV(knn, parametersKNN, refit=True, cv=None, verbose=3, n_jobs=-1)\n",
    "# Fit the KNN model on training data\n",
    "knnGrid.fit(X_train, y_train)\n",
    "# Print best parameters found by using GridSearchCV\n",
    "bestKNN = knnGrid.best_params_\n",
    "print(\"Optimal Parameters for KNN:\", bestKNN)\n",
    "\n",
    "# Train the KNN model using the optimal hyperparameters found\n",
    "optKNN = KNeighborsClassifier(\n",
    "    n_neighbors=bestKNN['n_neighbors'],\n",
    "    weights=bestKNN['weights'],\n",
    "    p=bestKNN['p']\n",
    ")\n",
    "# Fit the optmised model \n",
    "optKNN.fit(X_train, y_train)\n",
    "# Make predictions on the test data\n",
    "knn_y_pred_ht = optKNN.predict(X_test)\n",
    "\n",
    "# Calculate the performance metrics\n",
    "accuracy = round(accuracy_score(y_test, knn_y_pred_ht), 2)\n",
    "precision = round(precision_score(y_test, knn_y_pred_ht), 2)\n",
    "recall = round(recall_score(y_test, knn_y_pred_ht), 2)\n",
    "f1 = round(f1_score(y_test, knn_y_pred_ht), 2)\n",
    "\n",
    "# Store the performance metrics of the model in the 'score' dictionary\n",
    "score['KNN Hyperparameter Tuned'] = {\n",
    "    'Accuracy': accuracy,\n",
    "    'Precision': precision,\n",
    "    'Recall': recall,\n",
    "    'F1 Score': f1\n",
    "}\n",
    "\n",
    "# Print the performance metrics\n",
    "print(\"K-Nearest Neighbors (KNN) Hyperparameter Tuned\")\n",
    "print(\"Accuracy:\", accuracy)\n",
    "print(\"Precision:\", precision)\n",
    "print(\"Recall:\", recall)\n",
    "print(\"F1 Score:\", f1)\n",
    "\n",
    "# Calculate the Confusion Matrix to understand the performance of the model\n",
    "cm = confusion_matrix(y_test, knn_y_pred_ht)\n",
    "# Set the figure size\n",
    "plt.figure(figsize=(10, 8))\n",
    "# Use scikit-learn's built-in function to plot the confusion matrix\n",
    "plot_confusion_matrix(optKNN, X_test, y_test, values_format='d')\n",
    "# Title of the plot\n",
    "plt.title('Confusion Matrix for KNN Hyperparameter Tuned')\n",
    "# Labels for X-axis and Y-axis\n",
    "plt.xlabel('Predicted')\n",
    "plt.ylabel('Actual')\n",
    "# Display the plot\n",
    "plt.show()"
   ]
  },
  {
   "cell_type": "code",
   "execution_count": null,
   "id": "cace158b",
   "metadata": {},
   "outputs": [],
   "source": []
  },
  {
   "cell_type": "code",
   "execution_count": 35,
   "id": "d9f8672f",
   "metadata": {},
   "outputs": [
    {
     "name": "stdout",
     "output_type": "stream",
     "text": [
      "AdaBoost\n",
      "Accuracy: 0.84\n",
      "Precision: 0.82\n",
      "Recall: 1.0\n",
      "F1 Score: 0.9\n"
     ]
    },
    {
     "data": {
      "text/plain": [
       "<Figure size 720x576 with 0 Axes>"
      ]
     },
     "metadata": {},
     "output_type": "display_data"
    },
    {
     "data": {
      "image/png": "[encoded data removed]",
      "text/plain": [
       "<Figure size 432x288 with 2 Axes>"
      ]
     },
     "metadata": {
      "needs_background": "light"
     },
     "output_type": "display_data"
    }
   ],
   "source": [
    "# AdaBoost\n",
    "\n",
    "# This code has been referred from\n",
    "# https://www.oreilly.com/library/view/hands-on-machine-learning/9781492032632/\n",
    "# https://scikit-learn.org/stable/modules/generated/sklearn.ensemble.AdaBoostClassifier.html\n",
    "# Initialize the AdaBoost Classifier\n",
    "adaboost = AdaBoostClassifier(random_state=42)\n",
    "# Train the AdaBoost model using the provided training data\n",
    "adaboost.fit(X_train, y_train)\n",
    "# Make predictions on the test data\n",
    "adab_y_pred = adaboost.predict(X_test)\n",
    "\n",
    "# Calculate the performance metrics\n",
    "accuracy = round(accuracy_score(y_test, adab_y_pred), 2)\n",
    "precision = round(precision_score(y_test, adab_y_pred), 2)\n",
    "recall = round(recall_score(y_test, adab_y_pred), 2)\n",
    "f1 = round(f1_score(y_test, adab_y_pred), 2)\n",
    "\n",
    "# Store the performance metrics of the model in the 'score' dictionary\n",
    "score['AdaBoost'] = {\n",
    "    'Accuracy': accuracy,\n",
    "    'Precision': precision,\n",
    "    'Recall': recall,\n",
    "    'F1 Score': f1\n",
    "}\n",
    "\n",
    "# Print the performance metrics\n",
    "print(\"AdaBoost\")\n",
    "print(\"Accuracy:\", accuracy)\n",
    "print(\"Precision:\", precision)\n",
    "print(\"Recall:\", recall)\n",
    "print(\"F1 Score:\", f1)\n",
    "\n",
    "# Calculate the Confusion Matrix to understand the performance of the model\n",
    "cm = confusion_matrix(y_test, adab_y_pred)\n",
    "# Set the figure size\n",
    "plt.figure(figsize=(10, 8))\n",
    "# Use scikit-learn's built-in function to plot the confusion matrix\n",
    "plot_confusion_matrix(adaboost, X_test, y_test, values_format='d')\n",
    "# Title of the plot\n",
    "plt.title('Confusion Matrix for AdaBoost')\n",
    "# Labels for X-axis and Y-axis\n",
    "plt.xlabel('Predicted')\n",
    "plt.ylabel('Actual')\n",
    "# Display the plot\n",
    "plt.show()"
   ]
  },
  {
   "cell_type": "code",
   "execution_count": 36,
   "id": "15f9c7f6",
   "metadata": {},
   "outputs": [
    {
     "name": "stdout",
     "output_type": "stream",
     "text": [
      "Fitting 5 folds for each of 12 candidates, totalling 60 fits\n",
      "Optimal Parameters for AdaBoost: {'learning_rate': 0.8, 'n_estimators': 100}\n",
      "AdaBoost Hyperparameter Tuned\n",
      "Accuracy: 0.86\n",
      "Precision: 0.84\n",
      "Recall: 1.0\n",
      "F1 Score: 0.91\n"
     ]
    },
    {
     "data": {
      "text/plain": [
       "<Figure size 720x576 with 0 Axes>"
      ]
     },
     "metadata": {},
     "output_type": "display_data"
    },
    {
     "data": {
      "image/png": "[encoded data removed]",
      "text/plain": [
       "<Figure size 432x288 with 2 Axes>"
      ]
     },
     "metadata": {
      "needs_background": "light"
     },
     "output_type": "display_data"
    }
   ],
   "source": [
    "# AdaBoost Hyperparameter Tuned\n",
    "\n",
    "# learning_rate: Weight applied to each classifier at each boosting iteration.\n",
    "# This code has been referred from\n",
    "# https://www.oreilly.com/library/view/hands-on-machine-learning/9781492032632/\n",
    "# https://scikit-learn.org/stable/modules/generated/sklearn.ensemble.AdaBoostClassifier.html\n",
    "# https://scikit-learn.org/stable/modules/generated/sklearn.model_selection.GridSearchCV.html\n",
    "# Define the parameter grid for AdaBoost\n",
    "parametersAdaBoost = {\n",
    "    'n_estimators': [50, 100, 150],\n",
    "    'learning_rate': [0.4, 0.5, 0.6, 0.8]\n",
    "}\n",
    "\n",
    "# Initialize the AdaBoost Classifier\n",
    "adaboost = AdaBoostClassifier(random_state=42)\n",
    "# Find the best hyperparameters using GridSearchCV\n",
    "adaBoostGrid = GridSearchCV(adaboost, parametersAdaBoost, scoring='accuracy', cv=None, verbose=3, n_jobs=-1)\n",
    "# Fit the AdaBoost model on training data\n",
    "adaBoostGrid.fit(X_train, y_train)\n",
    "# Print best parameters found by using GridSearchCV\n",
    "bestAdaBoost = adaBoostGrid.best_params_\n",
    "print(\"Optimal Parameters for AdaBoost:\", bestAdaBoost)\n",
    "\n",
    "# Train the AdaBoost model using the optimal hyperparameters found\n",
    "optAdaBoost = AdaBoostClassifier(\n",
    "    n_estimators = bestAdaBoost['n_estimators'],\n",
    "    learning_rate = bestAdaBoost['learning_rate'],\n",
    "    random_state = 42\n",
    ")\n",
    "# Fit the optmised model \n",
    "optAdaBoost.fit(X_train, y_train)\n",
    "# Make predictions on the test data\n",
    "adab_y_pred_ht = optAdaBoost.predict(X_test)\n",
    "\n",
    "# Calculate the performance metrics\n",
    "accuracy = round(accuracy_score(y_test, adab_y_pred_ht), 2)\n",
    "precision = round(precision_score(y_test, adab_y_pred_ht), 2)\n",
    "recall = round(recall_score(y_test, adab_y_pred_ht), 2)\n",
    "f1 = round(f1_score(y_test, adab_y_pred_ht), 2)\n",
    "\n",
    "# Store the performance metrics of the model in the 'score' dictionary\n",
    "score['AdaBoost Hyperparameter Tuned'] = {\n",
    "    'Accuracy': accuracy,\n",
    "    'Precision': precision,\n",
    "    'Recall': recall,\n",
    "    'F1 Score': f1\n",
    "}\n",
    "\n",
    "# Print the performance metrics\n",
    "print(\"AdaBoost Hyperparameter Tuned\")\n",
    "print(\"Accuracy:\", accuracy)\n",
    "print(\"Precision:\", precision)\n",
    "print(\"Recall:\", recall)\n",
    "print(\"F1 Score:\", f1)\n",
    "\n",
    "# Calculate the Confusion Matrix to understand the performance of the model\n",
    "cm = confusion_matrix(y_test, adab_y_pred_ht)\n",
    "# Set the figure size\n",
    "plt.figure(figsize=(10, 8))\n",
    "# Use scikit-learn's built-in function to plot the confusion matrix\n",
    "plot_confusion_matrix(optAdaBoost, X_test, y_test, values_format='d')\n",
    "# Title of the plot\n",
    "plt.title('Confusion Matrix for AdaBoost Hyperparameter Tuned')\n",
    "# Labels for X-axis and Y-axis\n",
    "plt.xlabel('Predicted')\n",
    "plt.ylabel('Actual')\n",
    "# Display the plot\n",
    "plt.show()"
   ]
  },
  {
   "cell_type": "code",
   "execution_count": 37,
   "id": "3148cc0a",
   "metadata": {},
   "outputs": [],
   "source": [
    "# Result Interpretation"
   ]
  },
  {
   "cell_type": "code",
   "execution_count": 38,
   "id": "cf9b5997",
   "metadata": {},
   "outputs": [
    {
     "data": {
      "image/png": "[encoded data removed]",
      "text/plain": [
       "<Figure size 936x576 with 1 Axes>"
      ]
     },
     "metadata": {},
     "output_type": "display_data"
    }
   ],
   "source": [
    "# Comparing accuracies of the Supervised Learning Algorithms for the given dataset.\n",
    "\n",
    "# This code has been referred from\n",
    "# https://matplotlib.org/stable/gallery/lines_bars_and_markers/barh.html#sphx-glr-gallery-lines-bars-and-markers-barh-py\n",
    "# https://seaborn.pydata.org/examples/part_whole_bars.html#\n",
    "# https://seaborn.pydata.org/tutorial/color_palettes.html\n",
    "# https://www.tutorialspoint.com/how-to-annotate-bars-in-bar-plot-with-matplotlib-in-python\n",
    "# Specify the visual style for the plot\n",
    "sns.set(style=\"white\")\n",
    "# Set the plot size\n",
    "plt.figure(figsize=(13, 8))\n",
    "# Prepare the data to be plotted\n",
    "algorithms = list(score.keys())\n",
    "accuracies = [score[name]['Accuracy'] for name in algorithms]\n",
    "# Specify a colour scheme for the bars\n",
    "palette = sns.color_palette(\"viridis\", len(algorithms))\n",
    "# Using a horizontal bar graph\n",
    "bars = plt.barh(algorithms, accuracies, color=palette, height=0.5)\n",
    "# Indicate accuracy values besides the bars.\n",
    "for bar in bars:\n",
    "    plt.text(bar.get_width() + 0.01, bar.get_y() + bar.get_height()/2, \n",
    "             f'{bar.get_width():.2f}', \n",
    "             va='center', ha='left', \n",
    "             fontsize=13, color='black', font='Arial', fontweight='bold')\n",
    "# Set the labels for X-axis and Y-axis\n",
    "plt.xlabel('Accuracy', font='Arial', fontsize=14, fontweight='bold')\n",
    "plt.ylabel('Algorithms', font='Arial', fontsize=14, fontweight='bold')\n",
    "# Title of the graph\n",
    "plt.title('Accuracy Comparison', font='Arial', fontsize=16, fontweight='bold')\n",
    "plt.xticks(fontsize=12)\n",
    "plt.yticks(fontsize=12)\n",
    "# Cleaner look without borders\n",
    "for spine in plt.gca().spines.values():\n",
    "    spine.set_visible(False)\n",
    "# Compact arrangement\n",
    "plt.tight_layout()\n",
    "# Display the plot\n",
    "plt.show()"
   ]
  },
  {
   "cell_type": "code",
   "execution_count": 39,
   "id": "f0b19a3a",
   "metadata": {},
   "outputs": [
    {
     "data": {
      "image/png": "[encoded data removed]",
      "text/plain": [
       "<Figure size 936x576 with 1 Axes>"
      ]
     },
     "metadata": {},
     "output_type": "display_data"
    }
   ],
   "source": [
    "# Compare Precision of all algorithms\n",
    "\n",
    "# This code has been referred from\n",
    "# https://matplotlib.org/stable/gallery/lines_bars_and_markers/barh.html#sphx-glr-gallery-lines-bars-and-markers-barh-py\n",
    "# https://seaborn.pydata.org/examples/part_whole_bars.html#\n",
    "# https://seaborn.pydata.org/tutorial/color_palettes.html\n",
    "# https://www.tutorialspoint.com/how-to-annotate-bars-in-bar-plot-with-matplotlib-in-python\n",
    "# Specify the visual style for the plot\n",
    "sns.set(style=\"white\")\n",
    "# Set the plot size\n",
    "plt.figure(figsize=(13, 8))\n",
    "# Prepare the data to be plotted\n",
    "algorithms = list(score.keys())\n",
    "precision = [score[name]['Precision'] for name in algorithms]\n",
    "# Specify a colour scheme for the bars\n",
    "palette = sns.color_palette(\"viridis\", len(algorithms))\n",
    "# Using a horizontal bar graph\n",
    "bars = plt.barh(algorithms, precision, color=palette, height=0.5)\n",
    "# Indicate precision values besides the bars.\n",
    "for bar in bars:\n",
    "    plt.text(bar.get_width() + 0.01, bar.get_y() + bar.get_height()/2, \n",
    "             f'{bar.get_width():.2f}', \n",
    "             va='center', ha='left', \n",
    "             fontsize=13, color='black', font='Arial', fontweight='bold')\n",
    "# Set the labels for X-axis and Y-axis\n",
    "plt.xlabel('Precision', font='Arial', fontsize=14, fontweight='bold')\n",
    "plt.ylabel('Algorithms', font='Arial', fontsize=14, fontweight='bold')\n",
    "# Title of the graph\n",
    "plt.title('Precision Comparison', font='Arial', fontsize=16, fontweight='bold')\n",
    "plt.xticks(fontsize=12)\n",
    "plt.yticks(fontsize=12)\n",
    "# Cleaner look without borders\n",
    "for spine in plt.gca().spines.values():\n",
    "    spine.set_visible(False)\n",
    "# Compact arrangement\n",
    "plt.tight_layout()\n",
    "# Display the plot\n",
    "plt.show()"
   ]
  },
  {
   "cell_type": "code",
   "execution_count": 40,
   "id": "b2919b57",
   "metadata": {},
   "outputs": [
    {
     "data": {
      "image/png": "[encoded data removed]",
      "text/plain": [
       "<Figure size 936x576 with 1 Axes>"
      ]
     },
     "metadata": {},
     "output_type": "display_data"
    }
   ],
   "source": [
    "# Comparing Recall of all algorithms\n",
    "\n",
    "# This code has been referred from\n",
    "# https://matplotlib.org/stable/gallery/lines_bars_and_markers/barh.html#sphx-glr-gallery-lines-bars-and-markers-barh-py\n",
    "# https://seaborn.pydata.org/examples/part_whole_bars.html#\n",
    "# https://seaborn.pydata.org/tutorial/color_palettes.html\n",
    "# https://www.tutorialspoint.com/how-to-annotate-bars-in-bar-plot-with-matplotlib-in-python\n",
    "# Specify the visual style for the plot\n",
    "sns.set(style=\"white\")\n",
    "# Set the plot size\n",
    "plt.figure(figsize=(13, 8))\n",
    "# Prepare the data to be plotted\n",
    "algorithms = list(score.keys())\n",
    "recall = [score[name]['Recall'] for name in algorithms]\n",
    "# Specify a colour scheme for the bars\n",
    "palette = sns.color_palette(\"viridis\", len(algorithms))\n",
    "# Using a horizontal bar graph\n",
    "bars = plt.barh(algorithms, recall, color=palette, height=0.5)\n",
    "# Indicate recall values besides the bars.\n",
    "for bar in bars:\n",
    "    plt.text(bar.get_width() + 0.01, bar.get_y() + bar.get_height()/2, \n",
    "             f'{bar.get_width():.2f}', \n",
    "             va='center', ha='left', \n",
    "             fontsize=13, color='black', font='Arial', fontweight='bold')\n",
    "# Set the labels for X-axis and Y-axis\n",
    "plt.xlabel('Recall', font='Arial', fontsize=14, fontweight='bold')\n",
    "plt.ylabel('Algorithms', font='Arial', fontsize=14, fontweight='bold')\n",
    "# Title of the graph\n",
    "plt.title('Recall Comparison', font='Arial', fontsize=16, fontweight='bold')\n",
    "plt.xticks(fontsize=12)\n",
    "plt.yticks(fontsize=12)\n",
    "# Cleaner look without borders\n",
    "for spine in plt.gca().spines.values():\n",
    "    spine.set_visible(False)\n",
    "# Compact arrangement\n",
    "plt.tight_layout()\n",
    "# Display the plot\n",
    "plt.show()"
   ]
  },
  {
   "cell_type": "code",
   "execution_count": 41,
   "id": "34ca66c8",
   "metadata": {},
   "outputs": [
    {
     "data": {
      "image/png": "[encoded data removed]",
      "text/plain": [
       "<Figure size 936x576 with 1 Axes>"
      ]
     },
     "metadata": {},
     "output_type": "display_data"
    }
   ],
   "source": [
    "# Comparing F1-Score of all algorithms\n",
    "\n",
    "# This code has been referred from\n",
    "# https://matplotlib.org/stable/gallery/lines_bars_and_markers/barh.html#sphx-glr-gallery-lines-bars-and-markers-barh-py\n",
    "# https://seaborn.pydata.org/examples/part_whole_bars.html#\n",
    "# https://seaborn.pydata.org/tutorial/color_palettes.html\n",
    "# https://www.tutorialspoint.com/how-to-annotate-bars-in-bar-plot-with-matplotlib-in-python\n",
    "# Specify the visual style for the plot\n",
    "sns.set(style=\"white\")\n",
    "# Set the plot size\n",
    "plt.figure(figsize=(13, 8))\n",
    "# Prepare the data to be plotted\n",
    "algorithms = list(score.keys())\n",
    "f1 = [score[name]['F1 Score'] for name in algorithms]\n",
    "# Specify a colour scheme for the bars\n",
    "palette = sns.color_palette(\"viridis\", len(algorithms))\n",
    "# Using a horizontal bar graph\n",
    "bars = plt.barh(algorithms, f1, color=palette, height=0.5)\n",
    "# Indicate f1-score values besides the bars.\n",
    "for bar in bars:\n",
    "    plt.text(bar.get_width() + 0.01, bar.get_y() + bar.get_height()/2, \n",
    "             f'{bar.get_width():.2f}', \n",
    "             va='center', ha='left', \n",
    "             fontsize=13, color='black', font='Arial', fontweight='bold')\n",
    "# Set the labels for X-axis and Y-axis\n",
    "plt.xlabel('F1-Score', font='Arial', fontsize=14, fontweight='bold')\n",
    "plt.ylabel('Algorithms', font='Arial', fontsize=14, fontweight='bold')\n",
    "# Title of the graph\n",
    "plt.title('F1-Score Comparison', font='Arial', fontsize=16, fontweight='bold')\n",
    "plt.xticks(fontsize=12)\n",
    "plt.yticks(fontsize=12)\n",
    "# Cleaner look without borders\n",
    "for spine in plt.gca().spines.values():\n",
    "    spine.set_visible(False)\n",
    "# Compact arrangement\n",
    "plt.tight_layout()\n",
    "# Display the plot\n",
    "plt.show()"
   ]
  },
  {
   "cell_type": "code",
   "execution_count": 42,
   "id": "cc1bd901",
   "metadata": {
    "scrolled": true
   },
   "outputs": [],
   "source": [
    "# print(score)"
   ]
  }
 ],
 "metadata": {
  "kernelspec": {
   "display_name": "Python 3 (ipykernel)",
   "language": "python",
   "name": "python3"
  },
  "language_info": {
   "codemirror_mode": {
    "name": "ipython",
    "version": 3
   },
   "file_extension": ".py",
   "mimetype": "text/x-python",
   "name": "python",
   "nbconvert_exporter": "python",
   "pygments_lexer": "ipython3",
   "version": "3.10.5"
  }
 },
 "nbformat": 4,
 "nbformat_minor": 5
}
